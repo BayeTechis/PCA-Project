{
 "cells": [
  {
   "cell_type": "markdown",
   "id": "556f4a8b",
   "metadata": {},
   "source": [
    "# PCA Project "
   ]
  },
  {
   "cell_type": "markdown",
   "id": "0d862a47",
   "metadata": {},
   "source": [
    "# Importing Libraries"
   ]
  },
  {
   "cell_type": "code",
   "execution_count": 1,
   "id": "e2cf1fed",
   "metadata": {},
   "outputs": [],
   "source": [
    "import numpy as np\n",
    "import pandas as pd\n",
    "import warnings\n",
    "warnings.filterwarnings('ignore')"
   ]
  },
  {
   "cell_type": "markdown",
   "id": "42f439aa",
   "metadata": {},
   "source": [
    "# Loading Data"
   ]
  },
  {
   "cell_type": "code",
   "execution_count": 2,
   "id": "1a16cfe5",
   "metadata": {},
   "outputs": [],
   "source": [
    "data = pd.read_csv('train.csv')"
   ]
  },
  {
   "cell_type": "code",
   "execution_count": 3,
   "id": "1d38816e",
   "metadata": {},
   "outputs": [
    {
     "data": {
      "text/html": [
       "<div>\n",
       "<style scoped>\n",
       "    .dataframe tbody tr th:only-of-type {\n",
       "        vertical-align: middle;\n",
       "    }\n",
       "\n",
       "    .dataframe tbody tr th {\n",
       "        vertical-align: top;\n",
       "    }\n",
       "\n",
       "    .dataframe thead th {\n",
       "        text-align: right;\n",
       "    }\n",
       "</style>\n",
       "<table border=\"1\" class=\"dataframe\">\n",
       "  <thead>\n",
       "    <tr style=\"text-align: right;\">\n",
       "      <th></th>\n",
       "      <th>Id</th>\n",
       "      <th>MSSubClass</th>\n",
       "      <th>MSZoning</th>\n",
       "      <th>LotFrontage</th>\n",
       "      <th>LotArea</th>\n",
       "      <th>Street</th>\n",
       "      <th>Alley</th>\n",
       "      <th>LotShape</th>\n",
       "      <th>LandContour</th>\n",
       "      <th>Utilities</th>\n",
       "      <th>...</th>\n",
       "      <th>PoolArea</th>\n",
       "      <th>PoolQC</th>\n",
       "      <th>Fence</th>\n",
       "      <th>MiscFeature</th>\n",
       "      <th>MiscVal</th>\n",
       "      <th>MoSold</th>\n",
       "      <th>YrSold</th>\n",
       "      <th>SaleType</th>\n",
       "      <th>SaleCondition</th>\n",
       "      <th>SalePrice</th>\n",
       "    </tr>\n",
       "  </thead>\n",
       "  <tbody>\n",
       "    <tr>\n",
       "      <th>0</th>\n",
       "      <td>1</td>\n",
       "      <td>60</td>\n",
       "      <td>RL</td>\n",
       "      <td>65.0</td>\n",
       "      <td>8450</td>\n",
       "      <td>Pave</td>\n",
       "      <td>NaN</td>\n",
       "      <td>Reg</td>\n",
       "      <td>Lvl</td>\n",
       "      <td>AllPub</td>\n",
       "      <td>...</td>\n",
       "      <td>0</td>\n",
       "      <td>NaN</td>\n",
       "      <td>NaN</td>\n",
       "      <td>NaN</td>\n",
       "      <td>0</td>\n",
       "      <td>2</td>\n",
       "      <td>2008</td>\n",
       "      <td>WD</td>\n",
       "      <td>Normal</td>\n",
       "      <td>208500</td>\n",
       "    </tr>\n",
       "    <tr>\n",
       "      <th>1</th>\n",
       "      <td>2</td>\n",
       "      <td>20</td>\n",
       "      <td>RL</td>\n",
       "      <td>80.0</td>\n",
       "      <td>9600</td>\n",
       "      <td>Pave</td>\n",
       "      <td>NaN</td>\n",
       "      <td>Reg</td>\n",
       "      <td>Lvl</td>\n",
       "      <td>AllPub</td>\n",
       "      <td>...</td>\n",
       "      <td>0</td>\n",
       "      <td>NaN</td>\n",
       "      <td>NaN</td>\n",
       "      <td>NaN</td>\n",
       "      <td>0</td>\n",
       "      <td>5</td>\n",
       "      <td>2007</td>\n",
       "      <td>WD</td>\n",
       "      <td>Normal</td>\n",
       "      <td>181500</td>\n",
       "    </tr>\n",
       "    <tr>\n",
       "      <th>2</th>\n",
       "      <td>3</td>\n",
       "      <td>60</td>\n",
       "      <td>RL</td>\n",
       "      <td>68.0</td>\n",
       "      <td>11250</td>\n",
       "      <td>Pave</td>\n",
       "      <td>NaN</td>\n",
       "      <td>IR1</td>\n",
       "      <td>Lvl</td>\n",
       "      <td>AllPub</td>\n",
       "      <td>...</td>\n",
       "      <td>0</td>\n",
       "      <td>NaN</td>\n",
       "      <td>NaN</td>\n",
       "      <td>NaN</td>\n",
       "      <td>0</td>\n",
       "      <td>9</td>\n",
       "      <td>2008</td>\n",
       "      <td>WD</td>\n",
       "      <td>Normal</td>\n",
       "      <td>223500</td>\n",
       "    </tr>\n",
       "    <tr>\n",
       "      <th>3</th>\n",
       "      <td>4</td>\n",
       "      <td>70</td>\n",
       "      <td>RL</td>\n",
       "      <td>60.0</td>\n",
       "      <td>9550</td>\n",
       "      <td>Pave</td>\n",
       "      <td>NaN</td>\n",
       "      <td>IR1</td>\n",
       "      <td>Lvl</td>\n",
       "      <td>AllPub</td>\n",
       "      <td>...</td>\n",
       "      <td>0</td>\n",
       "      <td>NaN</td>\n",
       "      <td>NaN</td>\n",
       "      <td>NaN</td>\n",
       "      <td>0</td>\n",
       "      <td>2</td>\n",
       "      <td>2006</td>\n",
       "      <td>WD</td>\n",
       "      <td>Abnorml</td>\n",
       "      <td>140000</td>\n",
       "    </tr>\n",
       "    <tr>\n",
       "      <th>4</th>\n",
       "      <td>5</td>\n",
       "      <td>60</td>\n",
       "      <td>RL</td>\n",
       "      <td>84.0</td>\n",
       "      <td>14260</td>\n",
       "      <td>Pave</td>\n",
       "      <td>NaN</td>\n",
       "      <td>IR1</td>\n",
       "      <td>Lvl</td>\n",
       "      <td>AllPub</td>\n",
       "      <td>...</td>\n",
       "      <td>0</td>\n",
       "      <td>NaN</td>\n",
       "      <td>NaN</td>\n",
       "      <td>NaN</td>\n",
       "      <td>0</td>\n",
       "      <td>12</td>\n",
       "      <td>2008</td>\n",
       "      <td>WD</td>\n",
       "      <td>Normal</td>\n",
       "      <td>250000</td>\n",
       "    </tr>\n",
       "  </tbody>\n",
       "</table>\n",
       "<p>5 rows × 81 columns</p>\n",
       "</div>"
      ],
      "text/plain": [
       "   Id  MSSubClass MSZoning  LotFrontage  LotArea Street Alley LotShape  \\\n",
       "0   1          60       RL         65.0     8450   Pave   NaN      Reg   \n",
       "1   2          20       RL         80.0     9600   Pave   NaN      Reg   \n",
       "2   3          60       RL         68.0    11250   Pave   NaN      IR1   \n",
       "3   4          70       RL         60.0     9550   Pave   NaN      IR1   \n",
       "4   5          60       RL         84.0    14260   Pave   NaN      IR1   \n",
       "\n",
       "  LandContour Utilities  ... PoolArea PoolQC Fence MiscFeature MiscVal MoSold  \\\n",
       "0         Lvl    AllPub  ...        0    NaN   NaN         NaN       0      2   \n",
       "1         Lvl    AllPub  ...        0    NaN   NaN         NaN       0      5   \n",
       "2         Lvl    AllPub  ...        0    NaN   NaN         NaN       0      9   \n",
       "3         Lvl    AllPub  ...        0    NaN   NaN         NaN       0      2   \n",
       "4         Lvl    AllPub  ...        0    NaN   NaN         NaN       0     12   \n",
       "\n",
       "  YrSold  SaleType  SaleCondition  SalePrice  \n",
       "0   2008        WD         Normal     208500  \n",
       "1   2007        WD         Normal     181500  \n",
       "2   2008        WD         Normal     223500  \n",
       "3   2006        WD        Abnorml     140000  \n",
       "4   2008        WD         Normal     250000  \n",
       "\n",
       "[5 rows x 81 columns]"
      ]
     },
     "execution_count": 3,
     "metadata": {},
     "output_type": "execute_result"
    }
   ],
   "source": [
    "data.head()"
   ]
  },
  {
   "cell_type": "code",
   "execution_count": 4,
   "id": "9c31a56c",
   "metadata": {},
   "outputs": [
    {
     "name": "stdout",
     "output_type": "stream",
     "text": [
      "<class 'pandas.core.frame.DataFrame'>\n",
      "RangeIndex: 1460 entries, 0 to 1459\n",
      "Data columns (total 81 columns):\n",
      " #   Column         Non-Null Count  Dtype  \n",
      "---  ------         --------------  -----  \n",
      " 0   Id             1460 non-null   int64  \n",
      " 1   MSSubClass     1460 non-null   int64  \n",
      " 2   MSZoning       1460 non-null   object \n",
      " 3   LotFrontage    1201 non-null   float64\n",
      " 4   LotArea        1460 non-null   int64  \n",
      " 5   Street         1460 non-null   object \n",
      " 6   Alley          91 non-null     object \n",
      " 7   LotShape       1460 non-null   object \n",
      " 8   LandContour    1460 non-null   object \n",
      " 9   Utilities      1460 non-null   object \n",
      " 10  LotConfig      1460 non-null   object \n",
      " 11  LandSlope      1460 non-null   object \n",
      " 12  Neighborhood   1460 non-null   object \n",
      " 13  Condition1     1460 non-null   object \n",
      " 14  Condition2     1460 non-null   object \n",
      " 15  BldgType       1460 non-null   object \n",
      " 16  HouseStyle     1460 non-null   object \n",
      " 17  OverallQual    1460 non-null   int64  \n",
      " 18  OverallCond    1460 non-null   int64  \n",
      " 19  YearBuilt      1460 non-null   int64  \n",
      " 20  YearRemodAdd   1460 non-null   int64  \n",
      " 21  RoofStyle      1460 non-null   object \n",
      " 22  RoofMatl       1460 non-null   object \n",
      " 23  Exterior1st    1460 non-null   object \n",
      " 24  Exterior2nd    1460 non-null   object \n",
      " 25  MasVnrType     1452 non-null   object \n",
      " 26  MasVnrArea     1452 non-null   float64\n",
      " 27  ExterQual      1460 non-null   object \n",
      " 28  ExterCond      1460 non-null   object \n",
      " 29  Foundation     1460 non-null   object \n",
      " 30  BsmtQual       1423 non-null   object \n",
      " 31  BsmtCond       1423 non-null   object \n",
      " 32  BsmtExposure   1422 non-null   object \n",
      " 33  BsmtFinType1   1423 non-null   object \n",
      " 34  BsmtFinSF1     1460 non-null   int64  \n",
      " 35  BsmtFinType2   1422 non-null   object \n",
      " 36  BsmtFinSF2     1460 non-null   int64  \n",
      " 37  BsmtUnfSF      1460 non-null   int64  \n",
      " 38  TotalBsmtSF    1460 non-null   int64  \n",
      " 39  Heating        1460 non-null   object \n",
      " 40  HeatingQC      1460 non-null   object \n",
      " 41  CentralAir     1460 non-null   object \n",
      " 42  Electrical     1459 non-null   object \n",
      " 43  1stFlrSF       1460 non-null   int64  \n",
      " 44  2ndFlrSF       1460 non-null   int64  \n",
      " 45  LowQualFinSF   1460 non-null   int64  \n",
      " 46  GrLivArea      1460 non-null   int64  \n",
      " 47  BsmtFullBath   1460 non-null   int64  \n",
      " 48  BsmtHalfBath   1460 non-null   int64  \n",
      " 49  FullBath       1460 non-null   int64  \n",
      " 50  HalfBath       1460 non-null   int64  \n",
      " 51  BedroomAbvGr   1460 non-null   int64  \n",
      " 52  KitchenAbvGr   1460 non-null   int64  \n",
      " 53  KitchenQual    1460 non-null   object \n",
      " 54  TotRmsAbvGrd   1460 non-null   int64  \n",
      " 55  Functional     1460 non-null   object \n",
      " 56  Fireplaces     1460 non-null   int64  \n",
      " 57  FireplaceQu    770 non-null    object \n",
      " 58  GarageType     1379 non-null   object \n",
      " 59  GarageYrBlt    1379 non-null   float64\n",
      " 60  GarageFinish   1379 non-null   object \n",
      " 61  GarageCars     1460 non-null   int64  \n",
      " 62  GarageArea     1460 non-null   int64  \n",
      " 63  GarageQual     1379 non-null   object \n",
      " 64  GarageCond     1379 non-null   object \n",
      " 65  PavedDrive     1460 non-null   object \n",
      " 66  WoodDeckSF     1460 non-null   int64  \n",
      " 67  OpenPorchSF    1460 non-null   int64  \n",
      " 68  EnclosedPorch  1460 non-null   int64  \n",
      " 69  3SsnPorch      1460 non-null   int64  \n",
      " 70  ScreenPorch    1460 non-null   int64  \n",
      " 71  PoolArea       1460 non-null   int64  \n",
      " 72  PoolQC         7 non-null      object \n",
      " 73  Fence          281 non-null    object \n",
      " 74  MiscFeature    54 non-null     object \n",
      " 75  MiscVal        1460 non-null   int64  \n",
      " 76  MoSold         1460 non-null   int64  \n",
      " 77  YrSold         1460 non-null   int64  \n",
      " 78  SaleType       1460 non-null   object \n",
      " 79  SaleCondition  1460 non-null   object \n",
      " 80  SalePrice      1460 non-null   int64  \n",
      "dtypes: float64(3), int64(35), object(43)\n",
      "memory usage: 924.0+ KB\n"
     ]
    }
   ],
   "source": [
    "data.info()"
   ]
  },
  {
   "cell_type": "markdown",
   "id": "505893b3",
   "metadata": {},
   "source": [
    "# Cleaning Data"
   ]
  },
  {
   "cell_type": "code",
   "execution_count": 5,
   "id": "b1ce9fcf",
   "metadata": {},
   "outputs": [
    {
     "data": {
      "text/html": [
       "<div>\n",
       "<style scoped>\n",
       "    .dataframe tbody tr th:only-of-type {\n",
       "        vertical-align: middle;\n",
       "    }\n",
       "\n",
       "    .dataframe tbody tr th {\n",
       "        vertical-align: top;\n",
       "    }\n",
       "\n",
       "    .dataframe thead th {\n",
       "        text-align: right;\n",
       "    }\n",
       "</style>\n",
       "<table border=\"1\" class=\"dataframe\">\n",
       "  <thead>\n",
       "    <tr style=\"text-align: right;\">\n",
       "      <th></th>\n",
       "      <th>Id</th>\n",
       "      <th>MSSubClass</th>\n",
       "      <th>LotFrontage</th>\n",
       "      <th>LotArea</th>\n",
       "      <th>OverallQual</th>\n",
       "      <th>OverallCond</th>\n",
       "      <th>YearBuilt</th>\n",
       "      <th>YearRemodAdd</th>\n",
       "      <th>MasVnrArea</th>\n",
       "      <th>BsmtFinSF1</th>\n",
       "      <th>...</th>\n",
       "      <th>WoodDeckSF</th>\n",
       "      <th>OpenPorchSF</th>\n",
       "      <th>EnclosedPorch</th>\n",
       "      <th>3SsnPorch</th>\n",
       "      <th>ScreenPorch</th>\n",
       "      <th>PoolArea</th>\n",
       "      <th>MiscVal</th>\n",
       "      <th>MoSold</th>\n",
       "      <th>YrSold</th>\n",
       "      <th>SalePrice</th>\n",
       "    </tr>\n",
       "  </thead>\n",
       "  <tbody>\n",
       "    <tr>\n",
       "      <th>0</th>\n",
       "      <td>1</td>\n",
       "      <td>60</td>\n",
       "      <td>65.0</td>\n",
       "      <td>8450</td>\n",
       "      <td>7</td>\n",
       "      <td>5</td>\n",
       "      <td>2003</td>\n",
       "      <td>2003</td>\n",
       "      <td>196.0</td>\n",
       "      <td>706</td>\n",
       "      <td>...</td>\n",
       "      <td>0</td>\n",
       "      <td>61</td>\n",
       "      <td>0</td>\n",
       "      <td>0</td>\n",
       "      <td>0</td>\n",
       "      <td>0</td>\n",
       "      <td>0</td>\n",
       "      <td>2</td>\n",
       "      <td>2008</td>\n",
       "      <td>208500</td>\n",
       "    </tr>\n",
       "    <tr>\n",
       "      <th>1</th>\n",
       "      <td>2</td>\n",
       "      <td>20</td>\n",
       "      <td>80.0</td>\n",
       "      <td>9600</td>\n",
       "      <td>6</td>\n",
       "      <td>8</td>\n",
       "      <td>1976</td>\n",
       "      <td>1976</td>\n",
       "      <td>0.0</td>\n",
       "      <td>978</td>\n",
       "      <td>...</td>\n",
       "      <td>298</td>\n",
       "      <td>0</td>\n",
       "      <td>0</td>\n",
       "      <td>0</td>\n",
       "      <td>0</td>\n",
       "      <td>0</td>\n",
       "      <td>0</td>\n",
       "      <td>5</td>\n",
       "      <td>2007</td>\n",
       "      <td>181500</td>\n",
       "    </tr>\n",
       "    <tr>\n",
       "      <th>2</th>\n",
       "      <td>3</td>\n",
       "      <td>60</td>\n",
       "      <td>68.0</td>\n",
       "      <td>11250</td>\n",
       "      <td>7</td>\n",
       "      <td>5</td>\n",
       "      <td>2001</td>\n",
       "      <td>2002</td>\n",
       "      <td>162.0</td>\n",
       "      <td>486</td>\n",
       "      <td>...</td>\n",
       "      <td>0</td>\n",
       "      <td>42</td>\n",
       "      <td>0</td>\n",
       "      <td>0</td>\n",
       "      <td>0</td>\n",
       "      <td>0</td>\n",
       "      <td>0</td>\n",
       "      <td>9</td>\n",
       "      <td>2008</td>\n",
       "      <td>223500</td>\n",
       "    </tr>\n",
       "    <tr>\n",
       "      <th>3</th>\n",
       "      <td>4</td>\n",
       "      <td>70</td>\n",
       "      <td>60.0</td>\n",
       "      <td>9550</td>\n",
       "      <td>7</td>\n",
       "      <td>5</td>\n",
       "      <td>1915</td>\n",
       "      <td>1970</td>\n",
       "      <td>0.0</td>\n",
       "      <td>216</td>\n",
       "      <td>...</td>\n",
       "      <td>0</td>\n",
       "      <td>35</td>\n",
       "      <td>272</td>\n",
       "      <td>0</td>\n",
       "      <td>0</td>\n",
       "      <td>0</td>\n",
       "      <td>0</td>\n",
       "      <td>2</td>\n",
       "      <td>2006</td>\n",
       "      <td>140000</td>\n",
       "    </tr>\n",
       "    <tr>\n",
       "      <th>4</th>\n",
       "      <td>5</td>\n",
       "      <td>60</td>\n",
       "      <td>84.0</td>\n",
       "      <td>14260</td>\n",
       "      <td>8</td>\n",
       "      <td>5</td>\n",
       "      <td>2000</td>\n",
       "      <td>2000</td>\n",
       "      <td>350.0</td>\n",
       "      <td>655</td>\n",
       "      <td>...</td>\n",
       "      <td>192</td>\n",
       "      <td>84</td>\n",
       "      <td>0</td>\n",
       "      <td>0</td>\n",
       "      <td>0</td>\n",
       "      <td>0</td>\n",
       "      <td>0</td>\n",
       "      <td>12</td>\n",
       "      <td>2008</td>\n",
       "      <td>250000</td>\n",
       "    </tr>\n",
       "  </tbody>\n",
       "</table>\n",
       "<p>5 rows × 38 columns</p>\n",
       "</div>"
      ],
      "text/plain": [
       "   Id  MSSubClass  LotFrontage  LotArea  OverallQual  OverallCond  YearBuilt  \\\n",
       "0   1          60         65.0     8450            7            5       2003   \n",
       "1   2          20         80.0     9600            6            8       1976   \n",
       "2   3          60         68.0    11250            7            5       2001   \n",
       "3   4          70         60.0     9550            7            5       1915   \n",
       "4   5          60         84.0    14260            8            5       2000   \n",
       "\n",
       "   YearRemodAdd  MasVnrArea  BsmtFinSF1  ...  WoodDeckSF  OpenPorchSF  \\\n",
       "0          2003       196.0         706  ...           0           61   \n",
       "1          1976         0.0         978  ...         298            0   \n",
       "2          2002       162.0         486  ...           0           42   \n",
       "3          1970         0.0         216  ...           0           35   \n",
       "4          2000       350.0         655  ...         192           84   \n",
       "\n",
       "   EnclosedPorch  3SsnPorch  ScreenPorch  PoolArea  MiscVal  MoSold  YrSold  \\\n",
       "0              0          0            0         0        0       2    2008   \n",
       "1              0          0            0         0        0       5    2007   \n",
       "2              0          0            0         0        0       9    2008   \n",
       "3            272          0            0         0        0       2    2006   \n",
       "4              0          0            0         0        0      12    2008   \n",
       "\n",
       "   SalePrice  \n",
       "0     208500  \n",
       "1     181500  \n",
       "2     223500  \n",
       "3     140000  \n",
       "4     250000  \n",
       "\n",
       "[5 rows x 38 columns]"
      ]
     },
     "execution_count": 5,
     "metadata": {},
     "output_type": "execute_result"
    }
   ],
   "source": [
    "dataset = data.select_dtypes(include=['float64', 'int64'])\n",
    "dataset.head()"
   ]
  },
  {
   "cell_type": "code",
   "execution_count": 6,
   "id": "8a2ef643",
   "metadata": {},
   "outputs": [
    {
     "data": {
      "text/plain": [
       "Id                 0\n",
       "MSSubClass         0\n",
       "LotFrontage      259\n",
       "LotArea            0\n",
       "OverallQual        0\n",
       "OverallCond        0\n",
       "YearBuilt          0\n",
       "YearRemodAdd       0\n",
       "MasVnrArea         8\n",
       "BsmtFinSF1         0\n",
       "BsmtFinSF2         0\n",
       "BsmtUnfSF          0\n",
       "TotalBsmtSF        0\n",
       "1stFlrSF           0\n",
       "2ndFlrSF           0\n",
       "LowQualFinSF       0\n",
       "GrLivArea          0\n",
       "BsmtFullBath       0\n",
       "BsmtHalfBath       0\n",
       "FullBath           0\n",
       "HalfBath           0\n",
       "BedroomAbvGr       0\n",
       "KitchenAbvGr       0\n",
       "TotRmsAbvGrd       0\n",
       "Fireplaces         0\n",
       "GarageYrBlt       81\n",
       "GarageCars         0\n",
       "GarageArea         0\n",
       "WoodDeckSF         0\n",
       "OpenPorchSF        0\n",
       "EnclosedPorch      0\n",
       "3SsnPorch          0\n",
       "ScreenPorch        0\n",
       "PoolArea           0\n",
       "MiscVal            0\n",
       "MoSold             0\n",
       "YrSold             0\n",
       "SalePrice          0\n",
       "dtype: int64"
      ]
     },
     "execution_count": 6,
     "metadata": {},
     "output_type": "execute_result"
    }
   ],
   "source": [
    "dataset.isnull().sum()"
   ]
  },
  {
   "cell_type": "code",
   "execution_count": 7,
   "id": "525b9370",
   "metadata": {},
   "outputs": [],
   "source": [
    "dataset = dataset.drop(columns = ['LotFrontage','GarageYrBlt'] , axis =1)"
   ]
  },
  {
   "cell_type": "code",
   "execution_count": 8,
   "id": "2b5a989c",
   "metadata": {},
   "outputs": [
    {
     "data": {
      "text/plain": [
       "Id               0\n",
       "MSSubClass       0\n",
       "LotArea          0\n",
       "OverallQual      0\n",
       "OverallCond      0\n",
       "YearBuilt        0\n",
       "YearRemodAdd     0\n",
       "MasVnrArea       8\n",
       "BsmtFinSF1       0\n",
       "BsmtFinSF2       0\n",
       "BsmtUnfSF        0\n",
       "TotalBsmtSF      0\n",
       "1stFlrSF         0\n",
       "2ndFlrSF         0\n",
       "LowQualFinSF     0\n",
       "GrLivArea        0\n",
       "BsmtFullBath     0\n",
       "BsmtHalfBath     0\n",
       "FullBath         0\n",
       "HalfBath         0\n",
       "BedroomAbvGr     0\n",
       "KitchenAbvGr     0\n",
       "TotRmsAbvGrd     0\n",
       "Fireplaces       0\n",
       "GarageCars       0\n",
       "GarageArea       0\n",
       "WoodDeckSF       0\n",
       "OpenPorchSF      0\n",
       "EnclosedPorch    0\n",
       "3SsnPorch        0\n",
       "ScreenPorch      0\n",
       "PoolArea         0\n",
       "MiscVal          0\n",
       "MoSold           0\n",
       "YrSold           0\n",
       "SalePrice        0\n",
       "dtype: int64"
      ]
     },
     "execution_count": 8,
     "metadata": {},
     "output_type": "execute_result"
    }
   ],
   "source": [
    "dataset.isna().sum()"
   ]
  },
  {
   "cell_type": "code",
   "execution_count": 9,
   "id": "0da1fa69",
   "metadata": {},
   "outputs": [],
   "source": [
    "columns = dataset.columns"
   ]
  },
  {
   "cell_type": "code",
   "execution_count": 10,
   "id": "c0de207f",
   "metadata": {},
   "outputs": [],
   "source": [
    "for column in columns:\n",
    "    dataset[column] = dataset[column].fillna(dataset[column].mean())"
   ]
  },
  {
   "cell_type": "code",
   "execution_count": 11,
   "id": "d3896598",
   "metadata": {},
   "outputs": [
    {
     "data": {
      "text/plain": [
       "Id               0\n",
       "MSSubClass       0\n",
       "LotArea          0\n",
       "OverallQual      0\n",
       "OverallCond      0\n",
       "YearBuilt        0\n",
       "YearRemodAdd     0\n",
       "MasVnrArea       0\n",
       "BsmtFinSF1       0\n",
       "BsmtFinSF2       0\n",
       "BsmtUnfSF        0\n",
       "TotalBsmtSF      0\n",
       "1stFlrSF         0\n",
       "2ndFlrSF         0\n",
       "LowQualFinSF     0\n",
       "GrLivArea        0\n",
       "BsmtFullBath     0\n",
       "BsmtHalfBath     0\n",
       "FullBath         0\n",
       "HalfBath         0\n",
       "BedroomAbvGr     0\n",
       "KitchenAbvGr     0\n",
       "TotRmsAbvGrd     0\n",
       "Fireplaces       0\n",
       "GarageCars       0\n",
       "GarageArea       0\n",
       "WoodDeckSF       0\n",
       "OpenPorchSF      0\n",
       "EnclosedPorch    0\n",
       "3SsnPorch        0\n",
       "ScreenPorch      0\n",
       "PoolArea         0\n",
       "MiscVal          0\n",
       "MoSold           0\n",
       "YrSold           0\n",
       "SalePrice        0\n",
       "dtype: int64"
      ]
     },
     "execution_count": 11,
     "metadata": {},
     "output_type": "execute_result"
    }
   ],
   "source": [
    "dataset.isna().sum()"
   ]
  },
  {
   "cell_type": "code",
   "execution_count": 12,
   "id": "0d76ad79",
   "metadata": {},
   "outputs": [],
   "source": [
    "dataset = dataset.drop(columns = ['Id'] , axis =1)"
   ]
  },
  {
   "cell_type": "code",
   "execution_count": 13,
   "id": "2f74cc32",
   "metadata": {},
   "outputs": [],
   "source": [
    "dependent = dataset['SalePrice']"
   ]
  },
  {
   "cell_type": "markdown",
   "id": "67277028",
   "metadata": {},
   "source": [
    "# Checking for outliers"
   ]
  },
  {
   "cell_type": "markdown",
   "id": "e8b22e22",
   "metadata": {},
   "source": [
    "MSSubClass"
   ]
  },
  {
   "cell_type": "code",
   "execution_count": 14,
   "id": "a9c4cb2d",
   "metadata": {},
   "outputs": [
    {
     "data": {
      "image/png": "[encoded data removed]",
      "text/plain": [
       "<Figure size 432x288 with 1 Axes>"
      ]
     },
     "metadata": {
      "needs_background": "light"
     },
     "output_type": "display_data"
    }
   ],
   "source": [
    "import seaborn as sns\n",
    "import matplotlib.pyplot as plt\n",
    "sns.boxplot(dataset['MSSubClass'])\n",
    "plt.show()"
   ]
  },
  {
   "cell_type": "code",
   "execution_count": 15,
   "id": "fe3e207e",
   "metadata": {},
   "outputs": [
    {
     "name": "stdout",
     "output_type": "stream",
     "text": [
      "-55.0 145.0\n"
     ]
    }
   ],
   "source": [
    "Q1 = np.percentile(dataset['MSSubClass'], 25)\n",
    "Q2 = np.percentile(dataset ['MSSubClass'], 50)\n",
    "Q3 = np.percentile(dataset ['MSSubClass'], 75)\n",
    "\n",
    "IQR = Q3-Q1\n",
    "lower_limit = Q1 -1.5 * IQR\n",
    "upper_limit = Q3 + 1.5 * IQR\n",
    "\n",
    "print(lower_limit, upper_limit)\n",
    "\n",
    "dataset = dataset [dataset ['MSSubClass']<upper_limit]"
   ]
  },
  {
   "cell_type": "code",
   "execution_count": 16,
   "id": "67224515",
   "metadata": {},
   "outputs": [
    {
     "data": {
      "image/png": "[encoded data removed]",
      "text/plain": [
       "<Figure size 432x288 with 1 Axes>"
      ]
     },
     "metadata": {
      "needs_background": "light"
     },
     "output_type": "display_data"
    }
   ],
   "source": [
    "sns.boxplot(dataset['MSSubClass'])\n",
    "plt.show()"
   ]
  },
  {
   "cell_type": "markdown",
   "id": "50a206db",
   "metadata": {},
   "source": [
    "LotArea "
   ]
  },
  {
   "cell_type": "code",
   "execution_count": 17,
   "id": "dc4627f4",
   "metadata": {},
   "outputs": [
    {
     "data": {
      "image/png": "[encoded data removed]",
      "text/plain": [
       "<Figure size 432x288 with 1 Axes>"
      ]
     },
     "metadata": {
      "needs_background": "light"
     },
     "output_type": "display_data"
    }
   ],
   "source": [
    "sns.boxplot(dataset['LotArea'])\n",
    "plt.show()"
   ]
  },
  {
   "cell_type": "code",
   "execution_count": 18,
   "id": "30f4c349",
   "metadata": {},
   "outputs": [
    {
     "name": "stdout",
     "output_type": "stream",
     "text": [
      "2177.0 17521.0\n"
     ]
    }
   ],
   "source": [
    "Q1 = np.percentile(dataset['LotArea'], 25)\n",
    "Q2 = np.percentile(dataset ['LotArea'], 50)\n",
    "Q3 = np.percentile(dataset ['LotArea'], 75)\n",
    "\n",
    "IQR = Q3-Q1\n",
    "lower_limit = Q1 -1.5 * IQR\n",
    "upper_limit = Q3 + 1.5 * IQR\n",
    "\n",
    "print(lower_limit, upper_limit)\n",
    "\n",
    "dataset = dataset [dataset ['LotArea']<upper_limit]"
   ]
  },
  {
   "cell_type": "code",
   "execution_count": 19,
   "id": "8a80a7c7",
   "metadata": {},
   "outputs": [
    {
     "data": {
      "image/png": "[encoded data removed]",
      "text/plain": [
       "<Figure size 432x288 with 1 Axes>"
      ]
     },
     "metadata": {
      "needs_background": "light"
     },
     "output_type": "display_data"
    }
   ],
   "source": [
    "sns.boxplot(dataset['LotArea'])\n",
    "plt.show()"
   ]
  },
  {
   "cell_type": "markdown",
   "id": "0a1afa81",
   "metadata": {},
   "source": [
    "OverallQual"
   ]
  },
  {
   "cell_type": "code",
   "execution_count": 20,
   "id": "ac19cd22",
   "metadata": {},
   "outputs": [
    {
     "data": {
      "image/png": "[encoded data removed]",
      "text/plain": [
       "<Figure size 432x288 with 1 Axes>"
      ]
     },
     "metadata": {
      "needs_background": "light"
     },
     "output_type": "display_data"
    }
   ],
   "source": [
    "sns.boxplot(dataset['OverallQual'])\n",
    "plt.show()"
   ]
  },
  {
   "cell_type": "markdown",
   "id": "636873f6",
   "metadata": {},
   "source": [
    "OverallCond "
   ]
  },
  {
   "cell_type": "code",
   "execution_count": 21,
   "id": "f79f30a0",
   "metadata": {},
   "outputs": [
    {
     "data": {
      "image/png": "[encoded data removed]",
      "text/plain": [
       "<Figure size 432x288 with 1 Axes>"
      ]
     },
     "metadata": {
      "needs_background": "light"
     },
     "output_type": "display_data"
    }
   ],
   "source": [
    "sns.boxplot(dataset['OverallCond'])\n",
    "plt.show()"
   ]
  },
  {
   "cell_type": "code",
   "execution_count": 22,
   "id": "cc8dc8cd",
   "metadata": {},
   "outputs": [
    {
     "name": "stdout",
     "output_type": "stream",
     "text": [
      "3.5 7.5\n"
     ]
    }
   ],
   "source": [
    "Q1 = np.percentile(dataset['OverallCond'], 25)\n",
    "Q2 = np.percentile(dataset ['OverallCond'], 50)\n",
    "Q3 = np.percentile(dataset ['OverallCond'], 75)\n",
    "\n",
    "IQR = Q3-Q1\n",
    "lower_limit = Q1 -1.5 * IQR\n",
    "upper_limit = Q3 + 1.5 * IQR\n",
    "\n",
    "print(lower_limit, upper_limit)\n",
    "\n",
    "dataset = dataset [dataset ['OverallCond'] < upper_limit]\n",
    "dataset = dataset [dataset ['OverallCond'] > lower_limit]"
   ]
  },
  {
   "cell_type": "code",
   "execution_count": 23,
   "id": "fd198100",
   "metadata": {},
   "outputs": [
    {
     "data": {
      "image/png": "[encoded data removed]",
      "text/plain": [
       "<Figure size 432x288 with 1 Axes>"
      ]
     },
     "metadata": {
      "needs_background": "light"
     },
     "output_type": "display_data"
    }
   ],
   "source": [
    "sns.boxplot(dataset['OverallCond'])\n",
    "plt.show()"
   ]
  },
  {
   "cell_type": "markdown",
   "id": "a02db0ab",
   "metadata": {},
   "source": [
    "YearBuilt "
   ]
  },
  {
   "cell_type": "code",
   "execution_count": 24,
   "id": "c2f3a616",
   "metadata": {},
   "outputs": [
    {
     "data": {
      "image/png": "[encoded data removed]",
      "text/plain": [
       "<Figure size 432x288 with 1 Axes>"
      ]
     },
     "metadata": {
      "needs_background": "light"
     },
     "output_type": "display_data"
    }
   ],
   "source": [
    "sns.boxplot(dataset['YearBuilt'])\n",
    "plt.show()"
   ]
  },
  {
   "cell_type": "code",
   "execution_count": 25,
   "id": "d4301c74",
   "metadata": {},
   "outputs": [
    {
     "name": "stdout",
     "output_type": "stream",
     "text": [
      "1887.0 2071.0\n"
     ]
    }
   ],
   "source": [
    "Q1 = np.percentile(dataset['YearBuilt'], 25)\n",
    "Q2 = np.percentile(dataset ['YearBuilt'], 50)\n",
    "Q3 = np.percentile(dataset ['YearBuilt'], 75)\n",
    "\n",
    "IQR = Q3-Q1\n",
    "lower_limit = Q1 -1.5 * IQR\n",
    "upper_limit = Q3 + 1.5 * IQR\n",
    "\n",
    "print(lower_limit, upper_limit)\n",
    "\n",
    "dataset = dataset [dataset ['YearBuilt'] > lower_limit]"
   ]
  },
  {
   "cell_type": "code",
   "execution_count": 26,
   "id": "6311ebd9",
   "metadata": {},
   "outputs": [
    {
     "data": {
      "image/png": "[encoded data removed]",
      "text/plain": [
       "<Figure size 432x288 with 1 Axes>"
      ]
     },
     "metadata": {
      "needs_background": "light"
     },
     "output_type": "display_data"
    }
   ],
   "source": [
    "sns.boxplot(dataset['YearBuilt'])\n",
    "plt.show()"
   ]
  },
  {
   "cell_type": "markdown",
   "id": "346c61a0",
   "metadata": {},
   "source": [
    "YearRemodAdd"
   ]
  },
  {
   "cell_type": "code",
   "execution_count": 27,
   "id": "292f5df0",
   "metadata": {},
   "outputs": [
    {
     "data": {
      "image/png": "[encoded data removed]",
      "text/plain": [
       "<Figure size 432x288 with 1 Axes>"
      ]
     },
     "metadata": {
      "needs_background": "light"
     },
     "output_type": "display_data"
    }
   ],
   "source": [
    "sns.boxplot(dataset['YearRemodAdd'])\n",
    "plt.show()"
   ]
  },
  {
   "cell_type": "markdown",
   "id": "79c09de5",
   "metadata": {},
   "source": [
    "MasVnrArea"
   ]
  },
  {
   "cell_type": "code",
   "execution_count": 28,
   "id": "dabea5e1",
   "metadata": {},
   "outputs": [
    {
     "data": {
      "image/png": "[encoded data removed]",
      "text/plain": [
       "<Figure size 432x288 with 1 Axes>"
      ]
     },
     "metadata": {
      "needs_background": "light"
     },
     "output_type": "display_data"
    }
   ],
   "source": [
    "sns.boxplot(dataset['MasVnrArea'])\n",
    "plt.show()"
   ]
  },
  {
   "cell_type": "code",
   "execution_count": 29,
   "id": "2654d1c0",
   "metadata": {},
   "outputs": [
    {
     "name": "stdout",
     "output_type": "stream",
     "text": [
      "-255.0 425.0\n"
     ]
    }
   ],
   "source": [
    "Q1 = np.percentile(dataset['MasVnrArea'], 25)\n",
    "Q2 = np.percentile(dataset ['MasVnrArea'], 50)\n",
    "Q3 = np.percentile(dataset ['MasVnrArea'], 75)\n",
    "\n",
    "IQR = Q3-Q1\n",
    "lower_limit = Q1 -1.5 * IQR\n",
    "upper_limit = Q3 + 1.5 * IQR\n",
    "\n",
    "print(lower_limit, upper_limit)\n",
    "\n",
    "dataset = dataset [dataset ['MasVnrArea'] < upper_limit]"
   ]
  },
  {
   "cell_type": "code",
   "execution_count": 30,
   "id": "7a2e8d7b",
   "metadata": {},
   "outputs": [
    {
     "data": {
      "image/png": "[encoded data removed]",
      "text/plain": [
       "<Figure size 432x288 with 1 Axes>"
      ]
     },
     "metadata": {
      "needs_background": "light"
     },
     "output_type": "display_data"
    }
   ],
   "source": [
    "sns.boxplot(dataset['MasVnrArea'])\n",
    "plt.show()"
   ]
  },
  {
   "cell_type": "markdown",
   "id": "a54f3019",
   "metadata": {},
   "source": [
    "BsmtFinSF1 "
   ]
  },
  {
   "cell_type": "code",
   "execution_count": 31,
   "id": "7bf62cc3",
   "metadata": {},
   "outputs": [
    {
     "data": {
      "image/png": "[encoded data removed]",
      "text/plain": [
       "<Figure size 432x288 with 1 Axes>"
      ]
     },
     "metadata": {
      "needs_background": "light"
     },
     "output_type": "display_data"
    }
   ],
   "source": [
    "sns.boxplot(dataset['BsmtFinSF1'])\n",
    "plt.show()"
   ]
  },
  {
   "cell_type": "markdown",
   "id": "897e5fbf",
   "metadata": {},
   "source": [
    "BsmtFinSF2"
   ]
  },
  {
   "cell_type": "code",
   "execution_count": 32,
   "id": "11b09413",
   "metadata": {},
   "outputs": [
    {
     "data": {
      "image/png": "[encoded data removed]",
      "text/plain": [
       "<Figure size 432x288 with 1 Axes>"
      ]
     },
     "metadata": {
      "needs_background": "light"
     },
     "output_type": "display_data"
    }
   ],
   "source": [
    "sns.boxplot(dataset['BsmtFinSF2'])\n",
    "plt.show()"
   ]
  },
  {
   "cell_type": "code",
   "execution_count": 33,
   "id": "1c007c3c",
   "metadata": {},
   "outputs": [],
   "source": [
    "dataset = dataset.drop(columns = ['BsmtFinSF2'] , axis =1)"
   ]
  },
  {
   "cell_type": "markdown",
   "id": "7ce2b724",
   "metadata": {},
   "source": [
    "BsmtUnfSF"
   ]
  },
  {
   "cell_type": "code",
   "execution_count": 34,
   "id": "2f68e7b9",
   "metadata": {},
   "outputs": [
    {
     "data": {
      "image/png": "[encoded data removed]",
      "text/plain": [
       "<Figure size 432x288 with 1 Axes>"
      ]
     },
     "metadata": {
      "needs_background": "light"
     },
     "output_type": "display_data"
    }
   ],
   "source": [
    "sns.boxplot(dataset['BsmtUnfSF'])\n",
    "plt.show()"
   ]
  },
  {
   "cell_type": "code",
   "execution_count": 35,
   "id": "50f0e709",
   "metadata": {},
   "outputs": [
    {
     "name": "stdout",
     "output_type": "stream",
     "text": [
      "-631.5 1708.5\n"
     ]
    }
   ],
   "source": [
    "Q1 = np.percentile(dataset['BsmtUnfSF'], 25)\n",
    "Q2 = np.percentile(dataset ['BsmtUnfSF'], 50)\n",
    "Q3 = np.percentile(dataset ['BsmtUnfSF'], 75)\n",
    "\n",
    "IQR = Q3-Q1\n",
    "lower_limit = Q1 -1.5 * IQR\n",
    "upper_limit = Q3 + 1.5 * IQR\n",
    "\n",
    "print(lower_limit, upper_limit)\n",
    "\n",
    "dataset = dataset [dataset ['BsmtUnfSF'] < upper_limit]"
   ]
  },
  {
   "cell_type": "code",
   "execution_count": 36,
   "id": "a89eff63",
   "metadata": {},
   "outputs": [
    {
     "data": {
      "image/png": "[encoded data removed]",
      "text/plain": [
       "<Figure size 432x288 with 1 Axes>"
      ]
     },
     "metadata": {
      "needs_background": "light"
     },
     "output_type": "display_data"
    }
   ],
   "source": [
    "sns.boxplot(dataset['BsmtUnfSF'])\n",
    "plt.show()"
   ]
  },
  {
   "cell_type": "markdown",
   "id": "73b6a002",
   "metadata": {},
   "source": [
    "TotalBsmtSF"
   ]
  },
  {
   "cell_type": "code",
   "execution_count": 37,
   "id": "21e76a6a",
   "metadata": {},
   "outputs": [
    {
     "data": {
      "image/png": "[encoded data removed]",
      "text/plain": [
       "<Figure size 432x288 with 1 Axes>"
      ]
     },
     "metadata": {
      "needs_background": "light"
     },
     "output_type": "display_data"
    }
   ],
   "source": [
    "sns.boxplot(dataset['TotalBsmtSF'])\n",
    "plt.show()"
   ]
  },
  {
   "cell_type": "code",
   "execution_count": 38,
   "id": "73bef6d5",
   "metadata": {},
   "outputs": [
    {
     "name": "stdout",
     "output_type": "stream",
     "text": [
      "146.75 1938.75\n"
     ]
    }
   ],
   "source": [
    "Q1 = np.percentile(dataset['TotalBsmtSF'], 25)\n",
    "Q2 = np.percentile(dataset ['TotalBsmtSF'], 50)\n",
    "Q3 = np.percentile(dataset ['TotalBsmtSF'], 75)\n",
    "\n",
    "IQR = Q3-Q1\n",
    "lower_limit = Q1 -1.5 * IQR\n",
    "upper_limit = Q3 + 1.5 * IQR\n",
    "\n",
    "print(lower_limit, upper_limit)\n",
    "\n",
    "dataset = dataset [dataset ['TotalBsmtSF'] < upper_limit]"
   ]
  },
  {
   "cell_type": "code",
   "execution_count": 39,
   "id": "e0a7f6c4",
   "metadata": {},
   "outputs": [
    {
     "data": {
      "image/png": "[encoded data removed]",
      "text/plain": [
       "<Figure size 432x288 with 1 Axes>"
      ]
     },
     "metadata": {
      "needs_background": "light"
     },
     "output_type": "display_data"
    }
   ],
   "source": [
    "sns.boxplot(dataset['TotalBsmtSF'])\n",
    "plt.show()"
   ]
  },
  {
   "cell_type": "code",
   "execution_count": 40,
   "id": "a8d1c607",
   "metadata": {},
   "outputs": [
    {
     "data": {
      "image/png": "[encoded data removed]",
      "text/plain": [
       "<Figure size 432x288 with 1 Axes>"
      ]
     },
     "metadata": {
      "needs_background": "light"
     },
     "output_type": "display_data"
    }
   ],
   "source": [
    "sns.boxplot(dataset['1stFlrSF'])\n",
    "plt.show()\n"
   ]
  },
  {
   "cell_type": "code",
   "execution_count": 41,
   "id": "ecb03774",
   "metadata": {},
   "outputs": [
    {
     "data": {
      "image/png": "[encoded data removed]",
      "text/plain": [
       "<Figure size 432x288 with 1 Axes>"
      ]
     },
     "metadata": {
      "needs_background": "light"
     },
     "output_type": "display_data"
    }
   ],
   "source": [
    "sns.boxplot(dataset['2ndFlrSF'])\n",
    "plt.show()\n",
    "\n"
   ]
  },
  {
   "cell_type": "code",
   "execution_count": 42,
   "id": "9c40682d",
   "metadata": {},
   "outputs": [
    {
     "data": {
      "image/png": "[encoded data removed]",
      "text/plain": [
       "<Figure size 432x288 with 1 Axes>"
      ]
     },
     "metadata": {
      "needs_background": "light"
     },
     "output_type": "display_data"
    }
   ],
   "source": [
    "sns.boxplot(dataset['LowQualFinSF'])\n",
    "plt.show()\n",
    "\n"
   ]
  },
  {
   "cell_type": "code",
   "execution_count": 43,
   "id": "053bd976",
   "metadata": {},
   "outputs": [],
   "source": [
    "dataset = dataset.drop('LowQualFinSF', axis = 1)\n"
   ]
  },
  {
   "cell_type": "code",
   "execution_count": 44,
   "id": "93d9513c",
   "metadata": {},
   "outputs": [
    {
     "data": {
      "image/png": "[encoded data removed]",
      "text/plain": [
       "<Figure size 432x288 with 1 Axes>"
      ]
     },
     "metadata": {
      "needs_background": "light"
     },
     "output_type": "display_data"
    }
   ],
   "source": [
    "sns.boxplot(dataset['GrLivArea'])\n",
    "plt.show()"
   ]
  },
  {
   "cell_type": "code",
   "execution_count": 45,
   "id": "8d7584d9",
   "metadata": {},
   "outputs": [
    {
     "name": "stdout",
     "output_type": "stream",
     "text": [
      "218.5 2614.5\n"
     ]
    },
    {
     "data": {
      "image/png": "[encoded data removed]",
      "text/plain": [
       "<Figure size 432x288 with 1 Axes>"
      ]
     },
     "metadata": {
      "needs_background": "light"
     },
     "output_type": "display_data"
    }
   ],
   "source": [
    "\n",
    "Q1 = np.percentile(dataset['GrLivArea'], 25)\n",
    "Q2 = np.percentile(dataset ['GrLivArea'], 50)\n",
    "Q3 = np.percentile(dataset ['GrLivArea'], 75)\n",
    "IQR = Q3-Q1\n",
    "lower_limit = Q1 -1.5 * IQR\n",
    "upper_limit = Q3 + 1.5 * IQR\n",
    "print(lower_limit, upper_limit)\n",
    "dataset = dataset [dataset ['GrLivArea'] < upper_limit] \n",
    "\n",
    "sns.boxplot(dataset['GrLivArea'])\n",
    "plt.show()"
   ]
  },
  {
   "cell_type": "code",
   "execution_count": 46,
   "id": "9702157e",
   "metadata": {},
   "outputs": [
    {
     "data": {
      "image/png": "[encoded data removed]",
      "text/plain": [
       "<Figure size 432x288 with 1 Axes>"
      ]
     },
     "metadata": {
      "needs_background": "light"
     },
     "output_type": "display_data"
    }
   ],
   "source": [
    "sns.boxplot(dataset['GarageArea'])\n",
    "plt.show()"
   ]
  },
  {
   "cell_type": "code",
   "execution_count": 47,
   "id": "465f60bc",
   "metadata": {},
   "outputs": [
    {
     "name": "stdout",
     "output_type": "stream",
     "text": [
      "-44.5 945.5\n"
     ]
    },
    {
     "data": {
      "image/png": "[encoded data removed]",
      "text/plain": [
       "<Figure size 432x288 with 1 Axes>"
      ]
     },
     "metadata": {
      "needs_background": "light"
     },
     "output_type": "display_data"
    }
   ],
   "source": [
    "\n",
    "Q1 = np.percentile(dataset['GarageArea'], 25)\n",
    "Q2 = np.percentile(dataset ['GarageArea'], 50)\n",
    "Q3 = np.percentile(dataset ['GarageArea'], 75)\n",
    "IQR = Q3-Q1\n",
    "lower_limit = Q1 -1.5 * IQR\n",
    "upper_limit = Q3 + 1.5 * IQR\n",
    "print(lower_limit, upper_limit)\n",
    "dataset = dataset [dataset ['GarageArea'] < upper_limit] \n",
    "\n",
    "sns.boxplot(dataset['GarageArea'])\n",
    "plt.show()"
   ]
  },
  {
   "cell_type": "code",
   "execution_count": 48,
   "id": "8a1af4a6",
   "metadata": {},
   "outputs": [
    {
     "data": {
      "image/png": "[encoded data removed]",
      "text/plain": [
       "<Figure size 432x288 with 1 Axes>"
      ]
     },
     "metadata": {
      "needs_background": "light"
     },
     "output_type": "display_data"
    }
   ],
   "source": [
    "sns.boxplot(dataset['WoodDeckSF'])\n",
    "plt.show()"
   ]
  },
  {
   "cell_type": "code",
   "execution_count": 49,
   "id": "479e7f43",
   "metadata": {},
   "outputs": [
    {
     "name": "stdout",
     "output_type": "stream",
     "text": [
      "-240.0 400.0\n"
     ]
    },
    {
     "data": {
      "image/png": "[encoded data removed]",
      "text/plain": [
       "<Figure size 432x288 with 1 Axes>"
      ]
     },
     "metadata": {
      "needs_background": "light"
     },
     "output_type": "display_data"
    }
   ],
   "source": [
    "\n",
    "Q1 = np.percentile(dataset['WoodDeckSF'], 25)\n",
    "Q2 = np.percentile(dataset ['WoodDeckSF'], 50)\n",
    "Q3 = np.percentile(dataset ['WoodDeckSF'], 75)\n",
    "IQR = Q3-Q1\n",
    "lower_limit = Q1 -1.5 * IQR\n",
    "upper_limit = Q3 + 1.5 * IQR\n",
    "print(lower_limit, upper_limit)\n",
    "dataset = dataset [dataset ['WoodDeckSF'] < upper_limit] \n",
    "\n",
    "sns.boxplot(dataset['WoodDeckSF'])\n",
    "plt.show()"
   ]
  },
  {
   "cell_type": "code",
   "execution_count": 50,
   "id": "710eeac5",
   "metadata": {},
   "outputs": [
    {
     "data": {
      "image/png": "[encoded data removed]",
      "text/plain": [
       "<Figure size 432x288 with 1 Axes>"
      ]
     },
     "metadata": {
      "needs_background": "light"
     },
     "output_type": "display_data"
    }
   ],
   "source": [
    "sns.boxplot(dataset['OpenPorchSF'])\n",
    "plt.show()"
   ]
  },
  {
   "cell_type": "code",
   "execution_count": 51,
   "id": "6b6aeaf8",
   "metadata": {},
   "outputs": [
    {
     "name": "stdout",
     "output_type": "stream",
     "text": [
      "-94.5 157.5\n"
     ]
    },
    {
     "data": {
      "image/png": "[encoded data removed]",
      "text/plain": [
       "<Figure size 432x288 with 1 Axes>"
      ]
     },
     "metadata": {
      "needs_background": "light"
     },
     "output_type": "display_data"
    }
   ],
   "source": [
    "Q1 = np.percentile(dataset['OpenPorchSF'], 25)\n",
    "Q2 = np.percentile(dataset ['OpenPorchSF'], 50)\n",
    "Q3 = np.percentile(dataset ['OpenPorchSF'], 75)\n",
    "IQR = Q3-Q1\n",
    "lower_limit = Q1 -1.5 * IQR\n",
    "upper_limit = Q3 + 1.5 * IQR\n",
    "print(lower_limit, upper_limit)\n",
    "dataset = dataset [dataset ['OpenPorchSF'] < upper_limit] \n",
    "\n",
    "sns.boxplot(dataset['OpenPorchSF'])\n",
    "plt.show()"
   ]
  },
  {
   "cell_type": "code",
   "execution_count": 52,
   "id": "d7b13ed9",
   "metadata": {},
   "outputs": [
    {
     "name": "stdout",
     "output_type": "stream",
     "text": [
      "-81.0 135.0\n"
     ]
    },
    {
     "data": {
      "image/png": "[encoded data removed]",
      "text/plain": [
       "<Figure size 432x288 with 1 Axes>"
      ]
     },
     "metadata": {
      "needs_background": "light"
     },
     "output_type": "display_data"
    }
   ],
   "source": [
    "Q1 = np.percentile(dataset['OpenPorchSF'], 25)\n",
    "Q2 = np.percentile(dataset ['OpenPorchSF'], 50)\n",
    "Q3 = np.percentile(dataset ['OpenPorchSF'], 75)\n",
    "IQR = Q3-Q1\n",
    "lower_limit = Q1 -1.5 * IQR\n",
    "upper_limit = Q3 + 1.5 * IQR\n",
    "print(lower_limit, upper_limit)\n",
    "dataset = dataset [dataset ['OpenPorchSF'] < upper_limit] \n",
    "\n",
    "sns.boxplot(dataset['OpenPorchSF'])\n",
    "plt.show()"
   ]
  },
  {
   "cell_type": "code",
   "execution_count": 53,
   "id": "daff27b7",
   "metadata": {},
   "outputs": [
    {
     "data": {
      "image/png": "[encoded data removed]",
      "text/plain": [
       "<Figure size 432x288 with 1 Axes>"
      ]
     },
     "metadata": {
      "needs_background": "light"
     },
     "output_type": "display_data"
    }
   ],
   "source": [
    "sns.boxplot(dataset['EnclosedPorch'])\n",
    "plt.show()"
   ]
  },
  {
   "cell_type": "code",
   "execution_count": 54,
   "id": "e68e2bf5",
   "metadata": {},
   "outputs": [],
   "source": [
    "dataset = dataset.drop('EnclosedPorch', axis = 1)"
   ]
  },
  {
   "cell_type": "code",
   "execution_count": 55,
   "id": "c6c5d376",
   "metadata": {},
   "outputs": [
    {
     "data": {
      "image/png": "[encoded data removed]",
      "text/plain": [
       "<Figure size 432x288 with 1 Axes>"
      ]
     },
     "metadata": {
      "needs_background": "light"
     },
     "output_type": "display_data"
    }
   ],
   "source": [
    "sns.boxplot(dataset['3SsnPorch'])\n",
    "plt.show()"
   ]
  },
  {
   "cell_type": "code",
   "execution_count": 56,
   "id": "6ed8e26c",
   "metadata": {},
   "outputs": [],
   "source": [
    "dataset = dataset.drop('3SsnPorch', axis = 1)"
   ]
  },
  {
   "cell_type": "code",
   "execution_count": 57,
   "id": "9c278fdb",
   "metadata": {},
   "outputs": [
    {
     "data": {
      "image/png": "[encoded data removed]",
      "text/plain": [
       "<Figure size 432x288 with 1 Axes>"
      ]
     },
     "metadata": {
      "needs_background": "light"
     },
     "output_type": "display_data"
    }
   ],
   "source": [
    "sns.boxplot(dataset['ScreenPorch'])\n",
    "plt.show()"
   ]
  },
  {
   "cell_type": "code",
   "execution_count": 58,
   "id": "5c0806db",
   "metadata": {},
   "outputs": [
    {
     "data": {
      "image/png": "[encoded data removed]",
      "text/plain": [
       "<Figure size 432x288 with 1 Axes>"
      ]
     },
     "metadata": {
      "needs_background": "light"
     },
     "output_type": "display_data"
    }
   ],
   "source": [
    "sns.boxplot(dataset['PoolArea'])\n",
    "plt.show()"
   ]
  },
  {
   "cell_type": "code",
   "execution_count": 59,
   "id": "dc53b41f",
   "metadata": {},
   "outputs": [],
   "source": [
    "dataset = dataset.drop('PoolArea', axis = 1)"
   ]
  },
  {
   "cell_type": "code",
   "execution_count": 60,
   "id": "9c386b6c",
   "metadata": {},
   "outputs": [
    {
     "data": {
      "image/png": "[encoded data removed]",
      "text/plain": [
       "<Figure size 432x288 with 1 Axes>"
      ]
     },
     "metadata": {
      "needs_background": "light"
     },
     "output_type": "display_data"
    }
   ],
   "source": [
    "sns.boxplot(dataset['MiscVal'])\n",
    "plt.show()"
   ]
  },
  {
   "cell_type": "code",
   "execution_count": 61,
   "id": "cb72ae04",
   "metadata": {},
   "outputs": [
    {
     "data": {
      "image/png": "[encoded data removed]",
      "text/plain": [
       "<Figure size 432x288 with 1 Axes>"
      ]
     },
     "metadata": {
      "needs_background": "light"
     },
     "output_type": "display_data"
    }
   ],
   "source": [
    "sns.boxplot(dataset['MoSold'])\n",
    "plt.show()"
   ]
  },
  {
   "cell_type": "code",
   "execution_count": 62,
   "id": "6596a745",
   "metadata": {},
   "outputs": [
    {
     "data": {
      "image/png": "[encoded data removed]",
      "text/plain": [
       "<Figure size 432x288 with 1 Axes>"
      ]
     },
     "metadata": {
      "needs_background": "light"
     },
     "output_type": "display_data"
    }
   ],
   "source": [
    "sns.boxplot(dataset['YrSold'])\n",
    "plt.show()"
   ]
  },
  {
   "cell_type": "markdown",
   "id": "e21f8740",
   "metadata": {},
   "source": [
    "# Correlation"
   ]
  },
  {
   "cell_type": "code",
   "execution_count": 63,
   "id": "8b9c8080",
   "metadata": {},
   "outputs": [
    {
     "data": {
      "text/html": [
       "<div>\n",
       "<style scoped>\n",
       "    .dataframe tbody tr th:only-of-type {\n",
       "        vertical-align: middle;\n",
       "    }\n",
       "\n",
       "    .dataframe tbody tr th {\n",
       "        vertical-align: top;\n",
       "    }\n",
       "\n",
       "    .dataframe thead th {\n",
       "        text-align: right;\n",
       "    }\n",
       "</style>\n",
       "<table border=\"1\" class=\"dataframe\">\n",
       "  <thead>\n",
       "    <tr style=\"text-align: right;\">\n",
       "      <th></th>\n",
       "      <th>MSSubClass</th>\n",
       "      <th>LotArea</th>\n",
       "      <th>OverallQual</th>\n",
       "      <th>OverallCond</th>\n",
       "      <th>YearBuilt</th>\n",
       "      <th>YearRemodAdd</th>\n",
       "      <th>MasVnrArea</th>\n",
       "      <th>BsmtFinSF1</th>\n",
       "      <th>BsmtUnfSF</th>\n",
       "      <th>TotalBsmtSF</th>\n",
       "      <th>...</th>\n",
       "      <th>Fireplaces</th>\n",
       "      <th>GarageCars</th>\n",
       "      <th>GarageArea</th>\n",
       "      <th>WoodDeckSF</th>\n",
       "      <th>OpenPorchSF</th>\n",
       "      <th>ScreenPorch</th>\n",
       "      <th>MiscVal</th>\n",
       "      <th>MoSold</th>\n",
       "      <th>YrSold</th>\n",
       "      <th>SalePrice</th>\n",
       "    </tr>\n",
       "  </thead>\n",
       "  <tbody>\n",
       "    <tr>\n",
       "      <th>MSSubClass</th>\n",
       "      <td>1.000000</td>\n",
       "      <td>-0.294433</td>\n",
       "      <td>0.249932</td>\n",
       "      <td>-0.160816</td>\n",
       "      <td>0.170445</td>\n",
       "      <td>0.138604</td>\n",
       "      <td>0.065517</td>\n",
       "      <td>-0.014266</td>\n",
       "      <td>-0.053566</td>\n",
       "      <td>-0.103675</td>\n",
       "      <td>...</td>\n",
       "      <td>0.138931</td>\n",
       "      <td>0.145565</td>\n",
       "      <td>0.054226</td>\n",
       "      <td>0.081091</td>\n",
       "      <td>0.069194</td>\n",
       "      <td>0.041714</td>\n",
       "      <td>-0.045465</td>\n",
       "      <td>0.043208</td>\n",
       "      <td>-0.000927</td>\n",
       "      <td>0.145460</td>\n",
       "    </tr>\n",
       "    <tr>\n",
       "      <th>LotArea</th>\n",
       "      <td>-0.294433</td>\n",
       "      <td>1.000000</td>\n",
       "      <td>0.123416</td>\n",
       "      <td>-0.039570</td>\n",
       "      <td>0.121225</td>\n",
       "      <td>0.083144</td>\n",
       "      <td>0.125600</td>\n",
       "      <td>0.131192</td>\n",
       "      <td>-0.012503</td>\n",
       "      <td>0.155461</td>\n",
       "      <td>...</td>\n",
       "      <td>0.192191</td>\n",
       "      <td>0.181764</td>\n",
       "      <td>0.213461</td>\n",
       "      <td>0.104986</td>\n",
       "      <td>0.090632</td>\n",
       "      <td>0.068179</td>\n",
       "      <td>0.047699</td>\n",
       "      <td>-0.012198</td>\n",
       "      <td>-0.020676</td>\n",
       "      <td>0.291485</td>\n",
       "    </tr>\n",
       "    <tr>\n",
       "      <th>OverallQual</th>\n",
       "      <td>0.249932</td>\n",
       "      <td>0.123416</td>\n",
       "      <td>1.000000</td>\n",
       "      <td>-0.218720</td>\n",
       "      <td>0.620291</td>\n",
       "      <td>0.547760</td>\n",
       "      <td>0.355656</td>\n",
       "      <td>0.159802</td>\n",
       "      <td>0.283660</td>\n",
       "      <td>0.471949</td>\n",
       "      <td>...</td>\n",
       "      <td>0.361621</td>\n",
       "      <td>0.556761</td>\n",
       "      <td>0.493704</td>\n",
       "      <td>0.231717</td>\n",
       "      <td>0.401331</td>\n",
       "      <td>0.054207</td>\n",
       "      <td>-0.066438</td>\n",
       "      <td>0.079461</td>\n",
       "      <td>-0.014018</td>\n",
       "      <td>0.819782</td>\n",
       "    </tr>\n",
       "    <tr>\n",
       "      <th>OverallCond</th>\n",
       "      <td>-0.160816</td>\n",
       "      <td>-0.039570</td>\n",
       "      <td>-0.218720</td>\n",
       "      <td>1.000000</td>\n",
       "      <td>-0.437561</td>\n",
       "      <td>-0.112088</td>\n",
       "      <td>-0.142065</td>\n",
       "      <td>-0.034033</td>\n",
       "      <td>-0.150785</td>\n",
       "      <td>-0.186186</td>\n",
       "      <td>...</td>\n",
       "      <td>-0.054146</td>\n",
       "      <td>-0.260725</td>\n",
       "      <td>-0.207003</td>\n",
       "      <td>-0.071156</td>\n",
       "      <td>-0.188177</td>\n",
       "      <td>0.118538</td>\n",
       "      <td>0.129698</td>\n",
       "      <td>-0.004867</td>\n",
       "      <td>0.059292</td>\n",
       "      <td>-0.202808</td>\n",
       "    </tr>\n",
       "    <tr>\n",
       "      <th>YearBuilt</th>\n",
       "      <td>0.170445</td>\n",
       "      <td>0.121225</td>\n",
       "      <td>0.620291</td>\n",
       "      <td>-0.437561</td>\n",
       "      <td>1.000000</td>\n",
       "      <td>0.680886</td>\n",
       "      <td>0.286349</td>\n",
       "      <td>0.222813</td>\n",
       "      <td>0.165228</td>\n",
       "      <td>0.414129</td>\n",
       "      <td>...</td>\n",
       "      <td>0.141448</td>\n",
       "      <td>0.562378</td>\n",
       "      <td>0.495546</td>\n",
       "      <td>0.283672</td>\n",
       "      <td>0.383777</td>\n",
       "      <td>-0.068887</td>\n",
       "      <td>-0.079216</td>\n",
       "      <td>0.045032</td>\n",
       "      <td>-0.001477</td>\n",
       "      <td>0.648299</td>\n",
       "    </tr>\n",
       "    <tr>\n",
       "      <th>YearRemodAdd</th>\n",
       "      <td>0.138604</td>\n",
       "      <td>0.083144</td>\n",
       "      <td>0.547760</td>\n",
       "      <td>-0.112088</td>\n",
       "      <td>0.680886</td>\n",
       "      <td>1.000000</td>\n",
       "      <td>0.133320</td>\n",
       "      <td>0.113715</td>\n",
       "      <td>0.182916</td>\n",
       "      <td>0.318772</td>\n",
       "      <td>...</td>\n",
       "      <td>0.107988</td>\n",
       "      <td>0.442190</td>\n",
       "      <td>0.376500</td>\n",
       "      <td>0.266962</td>\n",
       "      <td>0.329690</td>\n",
       "      <td>-0.025828</td>\n",
       "      <td>-0.048476</td>\n",
       "      <td>0.013435</td>\n",
       "      <td>0.038477</td>\n",
       "      <td>0.588594</td>\n",
       "    </tr>\n",
       "    <tr>\n",
       "      <th>MasVnrArea</th>\n",
       "      <td>0.065517</td>\n",
       "      <td>0.125600</td>\n",
       "      <td>0.355656</td>\n",
       "      <td>-0.142065</td>\n",
       "      <td>0.286349</td>\n",
       "      <td>0.133320</td>\n",
       "      <td>1.000000</td>\n",
       "      <td>0.225945</td>\n",
       "      <td>0.078619</td>\n",
       "      <td>0.314514</td>\n",
       "      <td>...</td>\n",
       "      <td>0.250100</td>\n",
       "      <td>0.328889</td>\n",
       "      <td>0.319843</td>\n",
       "      <td>0.158497</td>\n",
       "      <td>0.190631</td>\n",
       "      <td>0.040049</td>\n",
       "      <td>-0.057003</td>\n",
       "      <td>0.034373</td>\n",
       "      <td>0.021649</td>\n",
       "      <td>0.397652</td>\n",
       "    </tr>\n",
       "    <tr>\n",
       "      <th>BsmtFinSF1</th>\n",
       "      <td>-0.014266</td>\n",
       "      <td>0.131192</td>\n",
       "      <td>0.159802</td>\n",
       "      <td>-0.034033</td>\n",
       "      <td>0.222813</td>\n",
       "      <td>0.113715</td>\n",
       "      <td>0.225945</td>\n",
       "      <td>1.000000</td>\n",
       "      <td>-0.580934</td>\n",
       "      <td>0.446605</td>\n",
       "      <td>...</td>\n",
       "      <td>0.156520</td>\n",
       "      <td>0.172516</td>\n",
       "      <td>0.235923</td>\n",
       "      <td>0.192420</td>\n",
       "      <td>0.101600</td>\n",
       "      <td>0.064552</td>\n",
       "      <td>0.001665</td>\n",
       "      <td>0.025472</td>\n",
       "      <td>0.031834</td>\n",
       "      <td>0.351568</td>\n",
       "    </tr>\n",
       "    <tr>\n",
       "      <th>BsmtUnfSF</th>\n",
       "      <td>-0.053566</td>\n",
       "      <td>-0.012503</td>\n",
       "      <td>0.283660</td>\n",
       "      <td>-0.150785</td>\n",
       "      <td>0.165228</td>\n",
       "      <td>0.182916</td>\n",
       "      <td>0.078619</td>\n",
       "      <td>-0.580934</td>\n",
       "      <td>1.000000</td>\n",
       "      <td>0.389884</td>\n",
       "      <td>...</td>\n",
       "      <td>0.030879</td>\n",
       "      <td>0.172001</td>\n",
       "      <td>0.125606</td>\n",
       "      <td>-0.034918</td>\n",
       "      <td>0.108038</td>\n",
       "      <td>-0.027790</td>\n",
       "      <td>-0.063483</td>\n",
       "      <td>0.030798</td>\n",
       "      <td>-0.059449</td>\n",
       "      <td>0.165198</td>\n",
       "    </tr>\n",
       "    <tr>\n",
       "      <th>TotalBsmtSF</th>\n",
       "      <td>-0.103675</td>\n",
       "      <td>0.155461</td>\n",
       "      <td>0.471949</td>\n",
       "      <td>-0.186186</td>\n",
       "      <td>0.414129</td>\n",
       "      <td>0.318772</td>\n",
       "      <td>0.314514</td>\n",
       "      <td>0.446605</td>\n",
       "      <td>0.389884</td>\n",
       "      <td>1.000000</td>\n",
       "      <td>...</td>\n",
       "      <td>0.195859</td>\n",
       "      <td>0.365619</td>\n",
       "      <td>0.403528</td>\n",
       "      <td>0.210882</td>\n",
       "      <td>0.222008</td>\n",
       "      <td>0.052276</td>\n",
       "      <td>-0.079734</td>\n",
       "      <td>0.047778</td>\n",
       "      <td>-0.018889</td>\n",
       "      <td>0.564727</td>\n",
       "    </tr>\n",
       "    <tr>\n",
       "      <th>1stFlrSF</th>\n",
       "      <td>-0.059225</td>\n",
       "      <td>0.218713</td>\n",
       "      <td>0.378671</td>\n",
       "      <td>-0.178522</td>\n",
       "      <td>0.318872</td>\n",
       "      <td>0.260751</td>\n",
       "      <td>0.319338</td>\n",
       "      <td>0.357869</td>\n",
       "      <td>0.240297</td>\n",
       "      <td>0.725231</td>\n",
       "      <td>...</td>\n",
       "      <td>0.282311</td>\n",
       "      <td>0.373989</td>\n",
       "      <td>0.405601</td>\n",
       "      <td>0.171976</td>\n",
       "      <td>0.164789</td>\n",
       "      <td>0.056146</td>\n",
       "      <td>-0.044743</td>\n",
       "      <td>0.062116</td>\n",
       "      <td>-0.010826</td>\n",
       "      <td>0.512431</td>\n",
       "    </tr>\n",
       "    <tr>\n",
       "      <th>2ndFlrSF</th>\n",
       "      <td>0.275959</td>\n",
       "      <td>0.192282</td>\n",
       "      <td>0.296087</td>\n",
       "      <td>-0.059765</td>\n",
       "      <td>0.067581</td>\n",
       "      <td>0.128561</td>\n",
       "      <td>0.094351</td>\n",
       "      <td>-0.227145</td>\n",
       "      <td>0.024449</td>\n",
       "      <td>-0.294201</td>\n",
       "      <td>...</td>\n",
       "      <td>0.189223</td>\n",
       "      <td>0.167612</td>\n",
       "      <td>0.103598</td>\n",
       "      <td>0.040710</td>\n",
       "      <td>0.230922</td>\n",
       "      <td>0.017528</td>\n",
       "      <td>-0.030958</td>\n",
       "      <td>0.005365</td>\n",
       "      <td>-0.007912</td>\n",
       "      <td>0.303534</td>\n",
       "    </tr>\n",
       "    <tr>\n",
       "      <th>GrLivArea</th>\n",
       "      <td>0.229555</td>\n",
       "      <td>0.355409</td>\n",
       "      <td>0.577432</td>\n",
       "      <td>-0.191860</td>\n",
       "      <td>0.296974</td>\n",
       "      <td>0.316624</td>\n",
       "      <td>0.331136</td>\n",
       "      <td>0.039882</td>\n",
       "      <td>0.208779</td>\n",
       "      <td>0.254444</td>\n",
       "      <td>...</td>\n",
       "      <td>0.397939</td>\n",
       "      <td>0.447116</td>\n",
       "      <td>0.407956</td>\n",
       "      <td>0.168794</td>\n",
       "      <td>0.349733</td>\n",
       "      <td>0.057772</td>\n",
       "      <td>-0.061893</td>\n",
       "      <td>0.049926</td>\n",
       "      <td>-0.016177</td>\n",
       "      <td>0.684283</td>\n",
       "    </tr>\n",
       "    <tr>\n",
       "      <th>BsmtFullBath</th>\n",
       "      <td>0.071282</td>\n",
       "      <td>0.038237</td>\n",
       "      <td>0.125652</td>\n",
       "      <td>-0.036684</td>\n",
       "      <td>0.197248</td>\n",
       "      <td>0.163656</td>\n",
       "      <td>0.119682</td>\n",
       "      <td>0.645898</td>\n",
       "      <td>-0.420888</td>\n",
       "      <td>0.308885</td>\n",
       "      <td>...</td>\n",
       "      <td>0.059101</td>\n",
       "      <td>0.120003</td>\n",
       "      <td>0.165180</td>\n",
       "      <td>0.168782</td>\n",
       "      <td>0.084661</td>\n",
       "      <td>0.013504</td>\n",
       "      <td>0.039134</td>\n",
       "      <td>-0.017437</td>\n",
       "      <td>0.100702</td>\n",
       "      <td>0.250525</td>\n",
       "    </tr>\n",
       "    <tr>\n",
       "      <th>BsmtHalfBath</th>\n",
       "      <td>0.031402</td>\n",
       "      <td>0.056619</td>\n",
       "      <td>-0.030023</td>\n",
       "      <td>0.076497</td>\n",
       "      <td>-0.026872</td>\n",
       "      <td>-0.021453</td>\n",
       "      <td>0.044656</td>\n",
       "      <td>0.069366</td>\n",
       "      <td>-0.073996</td>\n",
       "      <td>0.030518</td>\n",
       "      <td>...</td>\n",
       "      <td>0.040752</td>\n",
       "      <td>-0.018251</td>\n",
       "      <td>-0.007073</td>\n",
       "      <td>0.080660</td>\n",
       "      <td>-0.028353</td>\n",
       "      <td>0.012001</td>\n",
       "      <td>-0.019318</td>\n",
       "      <td>0.047352</td>\n",
       "      <td>-0.046546</td>\n",
       "      <td>-0.011768</td>\n",
       "    </tr>\n",
       "    <tr>\n",
       "      <th>FullBath</th>\n",
       "      <td>0.213252</td>\n",
       "      <td>0.178766</td>\n",
       "      <td>0.550450</td>\n",
       "      <td>-0.312532</td>\n",
       "      <td>0.540837</td>\n",
       "      <td>0.481984</td>\n",
       "      <td>0.234795</td>\n",
       "      <td>-0.002630</td>\n",
       "      <td>0.267352</td>\n",
       "      <td>0.260826</td>\n",
       "      <td>...</td>\n",
       "      <td>0.193311</td>\n",
       "      <td>0.457784</td>\n",
       "      <td>0.382560</td>\n",
       "      <td>0.192985</td>\n",
       "      <td>0.334918</td>\n",
       "      <td>-0.064083</td>\n",
       "      <td>-0.079539</td>\n",
       "      <td>0.055733</td>\n",
       "      <td>0.014311</td>\n",
       "      <td>0.576071</td>\n",
       "    </tr>\n",
       "    <tr>\n",
       "      <th>HalfBath</th>\n",
       "      <td>0.175571</td>\n",
       "      <td>0.201183</td>\n",
       "      <td>0.252604</td>\n",
       "      <td>-0.076208</td>\n",
       "      <td>0.228310</td>\n",
       "      <td>0.197265</td>\n",
       "      <td>0.116994</td>\n",
       "      <td>-0.051486</td>\n",
       "      <td>-0.028697</td>\n",
       "      <td>-0.118454</td>\n",
       "      <td>...</td>\n",
       "      <td>0.194412</td>\n",
       "      <td>0.180864</td>\n",
       "      <td>0.109085</td>\n",
       "      <td>0.080096</td>\n",
       "      <td>0.292329</td>\n",
       "      <td>0.076016</td>\n",
       "      <td>-0.045591</td>\n",
       "      <td>-0.017199</td>\n",
       "      <td>-0.024785</td>\n",
       "      <td>0.294834</td>\n",
       "    </tr>\n",
       "    <tr>\n",
       "      <th>BedroomAbvGr</th>\n",
       "      <td>-0.103974</td>\n",
       "      <td>0.383104</td>\n",
       "      <td>0.089443</td>\n",
       "      <td>-0.007685</td>\n",
       "      <td>-0.003576</td>\n",
       "      <td>-0.032454</td>\n",
       "      <td>0.172661</td>\n",
       "      <td>-0.118848</td>\n",
       "      <td>0.119950</td>\n",
       "      <td>-0.008314</td>\n",
       "      <td>...</td>\n",
       "      <td>0.079673</td>\n",
       "      <td>0.069611</td>\n",
       "      <td>0.071442</td>\n",
       "      <td>0.007287</td>\n",
       "      <td>0.056486</td>\n",
       "      <td>-0.019023</td>\n",
       "      <td>-0.013487</td>\n",
       "      <td>0.053527</td>\n",
       "      <td>-0.017327</td>\n",
       "      <td>0.159689</td>\n",
       "    </tr>\n",
       "    <tr>\n",
       "      <th>KitchenAbvGr</th>\n",
       "      <td>0.241892</td>\n",
       "      <td>-0.029766</td>\n",
       "      <td>-0.171347</td>\n",
       "      <td>-0.118820</td>\n",
       "      <td>-0.071283</td>\n",
       "      <td>-0.141074</td>\n",
       "      <td>0.044650</td>\n",
       "      <td>-0.054061</td>\n",
       "      <td>-0.039545</td>\n",
       "      <td>-0.120799</td>\n",
       "      <td>...</td>\n",
       "      <td>-0.118624</td>\n",
       "      <td>0.015613</td>\n",
       "      <td>-0.006181</td>\n",
       "      <td>-0.078818</td>\n",
       "      <td>-0.112067</td>\n",
       "      <td>-0.051491</td>\n",
       "      <td>0.011482</td>\n",
       "      <td>0.026202</td>\n",
       "      <td>0.043038</td>\n",
       "      <td>-0.135300</td>\n",
       "    </tr>\n",
       "    <tr>\n",
       "      <th>TotRmsAbvGrd</th>\n",
       "      <td>0.138069</td>\n",
       "      <td>0.344005</td>\n",
       "      <td>0.391766</td>\n",
       "      <td>-0.135932</td>\n",
       "      <td>0.187140</td>\n",
       "      <td>0.193855</td>\n",
       "      <td>0.285620</td>\n",
       "      <td>-0.074035</td>\n",
       "      <td>0.199177</td>\n",
       "      <td>0.114762</td>\n",
       "      <td>...</td>\n",
       "      <td>0.267774</td>\n",
       "      <td>0.340136</td>\n",
       "      <td>0.277763</td>\n",
       "      <td>0.116132</td>\n",
       "      <td>0.210283</td>\n",
       "      <td>-0.012083</td>\n",
       "      <td>-0.039184</td>\n",
       "      <td>0.011777</td>\n",
       "      <td>-0.024080</td>\n",
       "      <td>0.468740</td>\n",
       "    </tr>\n",
       "    <tr>\n",
       "      <th>Fireplaces</th>\n",
       "      <td>0.138931</td>\n",
       "      <td>0.192191</td>\n",
       "      <td>0.361621</td>\n",
       "      <td>-0.054146</td>\n",
       "      <td>0.141448</td>\n",
       "      <td>0.107988</td>\n",
       "      <td>0.250100</td>\n",
       "      <td>0.156520</td>\n",
       "      <td>0.030879</td>\n",
       "      <td>0.195859</td>\n",
       "      <td>...</td>\n",
       "      <td>1.000000</td>\n",
       "      <td>0.242194</td>\n",
       "      <td>0.173125</td>\n",
       "      <td>0.150604</td>\n",
       "      <td>0.165884</td>\n",
       "      <td>0.157244</td>\n",
       "      <td>-0.000816</td>\n",
       "      <td>0.041374</td>\n",
       "      <td>-0.042424</td>\n",
       "      <td>0.397091</td>\n",
       "    </tr>\n",
       "    <tr>\n",
       "      <th>GarageCars</th>\n",
       "      <td>0.145565</td>\n",
       "      <td>0.181764</td>\n",
       "      <td>0.556761</td>\n",
       "      <td>-0.260725</td>\n",
       "      <td>0.562378</td>\n",
       "      <td>0.442190</td>\n",
       "      <td>0.328889</td>\n",
       "      <td>0.172516</td>\n",
       "      <td>0.172001</td>\n",
       "      <td>0.365619</td>\n",
       "      <td>...</td>\n",
       "      <td>0.242194</td>\n",
       "      <td>1.000000</td>\n",
       "      <td>0.866959</td>\n",
       "      <td>0.208565</td>\n",
       "      <td>0.291488</td>\n",
       "      <td>0.009688</td>\n",
       "      <td>-0.052644</td>\n",
       "      <td>0.030809</td>\n",
       "      <td>-0.020147</td>\n",
       "      <td>0.635145</td>\n",
       "    </tr>\n",
       "    <tr>\n",
       "      <th>GarageArea</th>\n",
       "      <td>0.054226</td>\n",
       "      <td>0.213461</td>\n",
       "      <td>0.493704</td>\n",
       "      <td>-0.207003</td>\n",
       "      <td>0.495546</td>\n",
       "      <td>0.376500</td>\n",
       "      <td>0.319843</td>\n",
       "      <td>0.235923</td>\n",
       "      <td>0.125606</td>\n",
       "      <td>0.403528</td>\n",
       "      <td>...</td>\n",
       "      <td>0.173125</td>\n",
       "      <td>0.866959</td>\n",
       "      <td>1.000000</td>\n",
       "      <td>0.194625</td>\n",
       "      <td>0.269709</td>\n",
       "      <td>0.006734</td>\n",
       "      <td>-0.030011</td>\n",
       "      <td>0.032180</td>\n",
       "      <td>-0.007660</td>\n",
       "      <td>0.603870</td>\n",
       "    </tr>\n",
       "    <tr>\n",
       "      <th>WoodDeckSF</th>\n",
       "      <td>0.081091</td>\n",
       "      <td>0.104986</td>\n",
       "      <td>0.231717</td>\n",
       "      <td>-0.071156</td>\n",
       "      <td>0.283672</td>\n",
       "      <td>0.266962</td>\n",
       "      <td>0.158497</td>\n",
       "      <td>0.192420</td>\n",
       "      <td>-0.034918</td>\n",
       "      <td>0.210882</td>\n",
       "      <td>...</td>\n",
       "      <td>0.150604</td>\n",
       "      <td>0.208565</td>\n",
       "      <td>0.194625</td>\n",
       "      <td>1.000000</td>\n",
       "      <td>0.125642</td>\n",
       "      <td>-0.084249</td>\n",
       "      <td>0.013401</td>\n",
       "      <td>0.014244</td>\n",
       "      <td>0.046261</td>\n",
       "      <td>0.293113</td>\n",
       "    </tr>\n",
       "    <tr>\n",
       "      <th>OpenPorchSF</th>\n",
       "      <td>0.069194</td>\n",
       "      <td>0.090632</td>\n",
       "      <td>0.401331</td>\n",
       "      <td>-0.188177</td>\n",
       "      <td>0.383777</td>\n",
       "      <td>0.329690</td>\n",
       "      <td>0.190631</td>\n",
       "      <td>0.101600</td>\n",
       "      <td>0.108038</td>\n",
       "      <td>0.222008</td>\n",
       "      <td>...</td>\n",
       "      <td>0.165884</td>\n",
       "      <td>0.291488</td>\n",
       "      <td>0.269709</td>\n",
       "      <td>0.125642</td>\n",
       "      <td>1.000000</td>\n",
       "      <td>-0.030597</td>\n",
       "      <td>-0.065411</td>\n",
       "      <td>0.069556</td>\n",
       "      <td>-0.031089</td>\n",
       "      <td>0.432752</td>\n",
       "    </tr>\n",
       "    <tr>\n",
       "      <th>ScreenPorch</th>\n",
       "      <td>0.041714</td>\n",
       "      <td>0.068179</td>\n",
       "      <td>0.054207</td>\n",
       "      <td>0.118538</td>\n",
       "      <td>-0.068887</td>\n",
       "      <td>-0.025828</td>\n",
       "      <td>0.040049</td>\n",
       "      <td>0.064552</td>\n",
       "      <td>-0.027790</td>\n",
       "      <td>0.052276</td>\n",
       "      <td>...</td>\n",
       "      <td>0.157244</td>\n",
       "      <td>0.009688</td>\n",
       "      <td>0.006734</td>\n",
       "      <td>-0.084249</td>\n",
       "      <td>-0.030597</td>\n",
       "      <td>1.000000</td>\n",
       "      <td>0.070877</td>\n",
       "      <td>0.023099</td>\n",
       "      <td>0.057919</td>\n",
       "      <td>0.073302</td>\n",
       "    </tr>\n",
       "    <tr>\n",
       "      <th>MiscVal</th>\n",
       "      <td>-0.045465</td>\n",
       "      <td>0.047699</td>\n",
       "      <td>-0.066438</td>\n",
       "      <td>0.129698</td>\n",
       "      <td>-0.079216</td>\n",
       "      <td>-0.048476</td>\n",
       "      <td>-0.057003</td>\n",
       "      <td>0.001665</td>\n",
       "      <td>-0.063483</td>\n",
       "      <td>-0.079734</td>\n",
       "      <td>...</td>\n",
       "      <td>-0.000816</td>\n",
       "      <td>-0.052644</td>\n",
       "      <td>-0.030011</td>\n",
       "      <td>0.013401</td>\n",
       "      <td>-0.065411</td>\n",
       "      <td>0.070877</td>\n",
       "      <td>1.000000</td>\n",
       "      <td>0.034533</td>\n",
       "      <td>0.050153</td>\n",
       "      <td>-0.073354</td>\n",
       "    </tr>\n",
       "    <tr>\n",
       "      <th>MoSold</th>\n",
       "      <td>0.043208</td>\n",
       "      <td>-0.012198</td>\n",
       "      <td>0.079461</td>\n",
       "      <td>-0.004867</td>\n",
       "      <td>0.045032</td>\n",
       "      <td>0.013435</td>\n",
       "      <td>0.034373</td>\n",
       "      <td>0.025472</td>\n",
       "      <td>0.030798</td>\n",
       "      <td>0.047778</td>\n",
       "      <td>...</td>\n",
       "      <td>0.041374</td>\n",
       "      <td>0.030809</td>\n",
       "      <td>0.032180</td>\n",
       "      <td>0.014244</td>\n",
       "      <td>0.069556</td>\n",
       "      <td>0.023099</td>\n",
       "      <td>0.034533</td>\n",
       "      <td>1.000000</td>\n",
       "      <td>-0.183304</td>\n",
       "      <td>0.075377</td>\n",
       "    </tr>\n",
       "    <tr>\n",
       "      <th>YrSold</th>\n",
       "      <td>-0.000927</td>\n",
       "      <td>-0.020676</td>\n",
       "      <td>-0.014018</td>\n",
       "      <td>0.059292</td>\n",
       "      <td>-0.001477</td>\n",
       "      <td>0.038477</td>\n",
       "      <td>0.021649</td>\n",
       "      <td>0.031834</td>\n",
       "      <td>-0.059449</td>\n",
       "      <td>-0.018889</td>\n",
       "      <td>...</td>\n",
       "      <td>-0.042424</td>\n",
       "      <td>-0.020147</td>\n",
       "      <td>-0.007660</td>\n",
       "      <td>0.046261</td>\n",
       "      <td>-0.031089</td>\n",
       "      <td>0.057919</td>\n",
       "      <td>0.050153</td>\n",
       "      <td>-0.183304</td>\n",
       "      <td>1.000000</td>\n",
       "      <td>-0.020323</td>\n",
       "    </tr>\n",
       "    <tr>\n",
       "      <th>SalePrice</th>\n",
       "      <td>0.145460</td>\n",
       "      <td>0.291485</td>\n",
       "      <td>0.819782</td>\n",
       "      <td>-0.202808</td>\n",
       "      <td>0.648299</td>\n",
       "      <td>0.588594</td>\n",
       "      <td>0.397652</td>\n",
       "      <td>0.351568</td>\n",
       "      <td>0.165198</td>\n",
       "      <td>0.564727</td>\n",
       "      <td>...</td>\n",
       "      <td>0.397091</td>\n",
       "      <td>0.635145</td>\n",
       "      <td>0.603870</td>\n",
       "      <td>0.293113</td>\n",
       "      <td>0.432752</td>\n",
       "      <td>0.073302</td>\n",
       "      <td>-0.073354</td>\n",
       "      <td>0.075377</td>\n",
       "      <td>-0.020323</td>\n",
       "      <td>1.000000</td>\n",
       "    </tr>\n",
       "  </tbody>\n",
       "</table>\n",
       "<p>30 rows × 30 columns</p>\n",
       "</div>"
      ],
      "text/plain": [
       "              MSSubClass   LotArea  OverallQual  OverallCond  YearBuilt  \\\n",
       "MSSubClass      1.000000 -0.294433     0.249932    -0.160816   0.170445   \n",
       "LotArea        -0.294433  1.000000     0.123416    -0.039570   0.121225   \n",
       "OverallQual     0.249932  0.123416     1.000000    -0.218720   0.620291   \n",
       "OverallCond    -0.160816 -0.039570    -0.218720     1.000000  -0.437561   \n",
       "YearBuilt       0.170445  0.121225     0.620291    -0.437561   1.000000   \n",
       "YearRemodAdd    0.138604  0.083144     0.547760    -0.112088   0.680886   \n",
       "MasVnrArea      0.065517  0.125600     0.355656    -0.142065   0.286349   \n",
       "BsmtFinSF1     -0.014266  0.131192     0.159802    -0.034033   0.222813   \n",
       "BsmtUnfSF      -0.053566 -0.012503     0.283660    -0.150785   0.165228   \n",
       "TotalBsmtSF    -0.103675  0.155461     0.471949    -0.186186   0.414129   \n",
       "1stFlrSF       -0.059225  0.218713     0.378671    -0.178522   0.318872   \n",
       "2ndFlrSF        0.275959  0.192282     0.296087    -0.059765   0.067581   \n",
       "GrLivArea       0.229555  0.355409     0.577432    -0.191860   0.296974   \n",
       "BsmtFullBath    0.071282  0.038237     0.125652    -0.036684   0.197248   \n",
       "BsmtHalfBath    0.031402  0.056619    -0.030023     0.076497  -0.026872   \n",
       "FullBath        0.213252  0.178766     0.550450    -0.312532   0.540837   \n",
       "HalfBath        0.175571  0.201183     0.252604    -0.076208   0.228310   \n",
       "BedroomAbvGr   -0.103974  0.383104     0.089443    -0.007685  -0.003576   \n",
       "KitchenAbvGr    0.241892 -0.029766    -0.171347    -0.118820  -0.071283   \n",
       "TotRmsAbvGrd    0.138069  0.344005     0.391766    -0.135932   0.187140   \n",
       "Fireplaces      0.138931  0.192191     0.361621    -0.054146   0.141448   \n",
       "GarageCars      0.145565  0.181764     0.556761    -0.260725   0.562378   \n",
       "GarageArea      0.054226  0.213461     0.493704    -0.207003   0.495546   \n",
       "WoodDeckSF      0.081091  0.104986     0.231717    -0.071156   0.283672   \n",
       "OpenPorchSF     0.069194  0.090632     0.401331    -0.188177   0.383777   \n",
       "ScreenPorch     0.041714  0.068179     0.054207     0.118538  -0.068887   \n",
       "MiscVal        -0.045465  0.047699    -0.066438     0.129698  -0.079216   \n",
       "MoSold          0.043208 -0.012198     0.079461    -0.004867   0.045032   \n",
       "YrSold         -0.000927 -0.020676    -0.014018     0.059292  -0.001477   \n",
       "SalePrice       0.145460  0.291485     0.819782    -0.202808   0.648299   \n",
       "\n",
       "              YearRemodAdd  MasVnrArea  BsmtFinSF1  BsmtUnfSF  TotalBsmtSF  \\\n",
       "MSSubClass        0.138604    0.065517   -0.014266  -0.053566    -0.103675   \n",
       "LotArea           0.083144    0.125600    0.131192  -0.012503     0.155461   \n",
       "OverallQual       0.547760    0.355656    0.159802   0.283660     0.471949   \n",
       "OverallCond      -0.112088   -0.142065   -0.034033  -0.150785    -0.186186   \n",
       "YearBuilt         0.680886    0.286349    0.222813   0.165228     0.414129   \n",
       "YearRemodAdd      1.000000    0.133320    0.113715   0.182916     0.318772   \n",
       "MasVnrArea        0.133320    1.000000    0.225945   0.078619     0.314514   \n",
       "BsmtFinSF1        0.113715    0.225945    1.000000  -0.580934     0.446605   \n",
       "BsmtUnfSF         0.182916    0.078619   -0.580934   1.000000     0.389884   \n",
       "TotalBsmtSF       0.318772    0.314514    0.446605   0.389884     1.000000   \n",
       "1stFlrSF          0.260751    0.319338    0.357869   0.240297     0.725231   \n",
       "2ndFlrSF          0.128561    0.094351   -0.227145   0.024449    -0.294201   \n",
       "GrLivArea         0.316624    0.331136    0.039882   0.208779     0.254444   \n",
       "BsmtFullBath      0.163656    0.119682    0.645898  -0.420888     0.308885   \n",
       "BsmtHalfBath     -0.021453    0.044656    0.069366  -0.073996     0.030518   \n",
       "FullBath          0.481984    0.234795   -0.002630   0.267352     0.260826   \n",
       "HalfBath          0.197265    0.116994   -0.051486  -0.028697    -0.118454   \n",
       "BedroomAbvGr     -0.032454    0.172661   -0.118848   0.119950    -0.008314   \n",
       "KitchenAbvGr     -0.141074    0.044650   -0.054061  -0.039545    -0.120799   \n",
       "TotRmsAbvGrd      0.193855    0.285620   -0.074035   0.199177     0.114762   \n",
       "Fireplaces        0.107988    0.250100    0.156520   0.030879     0.195859   \n",
       "GarageCars        0.442190    0.328889    0.172516   0.172001     0.365619   \n",
       "GarageArea        0.376500    0.319843    0.235923   0.125606     0.403528   \n",
       "WoodDeckSF        0.266962    0.158497    0.192420  -0.034918     0.210882   \n",
       "OpenPorchSF       0.329690    0.190631    0.101600   0.108038     0.222008   \n",
       "ScreenPorch      -0.025828    0.040049    0.064552  -0.027790     0.052276   \n",
       "MiscVal          -0.048476   -0.057003    0.001665  -0.063483    -0.079734   \n",
       "MoSold            0.013435    0.034373    0.025472   0.030798     0.047778   \n",
       "YrSold            0.038477    0.021649    0.031834  -0.059449    -0.018889   \n",
       "SalePrice         0.588594    0.397652    0.351568   0.165198     0.564727   \n",
       "\n",
       "              ...  Fireplaces  GarageCars  GarageArea  WoodDeckSF  \\\n",
       "MSSubClass    ...    0.138931    0.145565    0.054226    0.081091   \n",
       "LotArea       ...    0.192191    0.181764    0.213461    0.104986   \n",
       "OverallQual   ...    0.361621    0.556761    0.493704    0.231717   \n",
       "OverallCond   ...   -0.054146   -0.260725   -0.207003   -0.071156   \n",
       "YearBuilt     ...    0.141448    0.562378    0.495546    0.283672   \n",
       "YearRemodAdd  ...    0.107988    0.442190    0.376500    0.266962   \n",
       "MasVnrArea    ...    0.250100    0.328889    0.319843    0.158497   \n",
       "BsmtFinSF1    ...    0.156520    0.172516    0.235923    0.192420   \n",
       "BsmtUnfSF     ...    0.030879    0.172001    0.125606   -0.034918   \n",
       "TotalBsmtSF   ...    0.195859    0.365619    0.403528    0.210882   \n",
       "1stFlrSF      ...    0.282311    0.373989    0.405601    0.171976   \n",
       "2ndFlrSF      ...    0.189223    0.167612    0.103598    0.040710   \n",
       "GrLivArea     ...    0.397939    0.447116    0.407956    0.168794   \n",
       "BsmtFullBath  ...    0.059101    0.120003    0.165180    0.168782   \n",
       "BsmtHalfBath  ...    0.040752   -0.018251   -0.007073    0.080660   \n",
       "FullBath      ...    0.193311    0.457784    0.382560    0.192985   \n",
       "HalfBath      ...    0.194412    0.180864    0.109085    0.080096   \n",
       "BedroomAbvGr  ...    0.079673    0.069611    0.071442    0.007287   \n",
       "KitchenAbvGr  ...   -0.118624    0.015613   -0.006181   -0.078818   \n",
       "TotRmsAbvGrd  ...    0.267774    0.340136    0.277763    0.116132   \n",
       "Fireplaces    ...    1.000000    0.242194    0.173125    0.150604   \n",
       "GarageCars    ...    0.242194    1.000000    0.866959    0.208565   \n",
       "GarageArea    ...    0.173125    0.866959    1.000000    0.194625   \n",
       "WoodDeckSF    ...    0.150604    0.208565    0.194625    1.000000   \n",
       "OpenPorchSF   ...    0.165884    0.291488    0.269709    0.125642   \n",
       "ScreenPorch   ...    0.157244    0.009688    0.006734   -0.084249   \n",
       "MiscVal       ...   -0.000816   -0.052644   -0.030011    0.013401   \n",
       "MoSold        ...    0.041374    0.030809    0.032180    0.014244   \n",
       "YrSold        ...   -0.042424   -0.020147   -0.007660    0.046261   \n",
       "SalePrice     ...    0.397091    0.635145    0.603870    0.293113   \n",
       "\n",
       "              OpenPorchSF  ScreenPorch   MiscVal    MoSold    YrSold  \\\n",
       "MSSubClass       0.069194     0.041714 -0.045465  0.043208 -0.000927   \n",
       "LotArea          0.090632     0.068179  0.047699 -0.012198 -0.020676   \n",
       "OverallQual      0.401331     0.054207 -0.066438  0.079461 -0.014018   \n",
       "OverallCond     -0.188177     0.118538  0.129698 -0.004867  0.059292   \n",
       "YearBuilt        0.383777    -0.068887 -0.079216  0.045032 -0.001477   \n",
       "YearRemodAdd     0.329690    -0.025828 -0.048476  0.013435  0.038477   \n",
       "MasVnrArea       0.190631     0.040049 -0.057003  0.034373  0.021649   \n",
       "BsmtFinSF1       0.101600     0.064552  0.001665  0.025472  0.031834   \n",
       "BsmtUnfSF        0.108038    -0.027790 -0.063483  0.030798 -0.059449   \n",
       "TotalBsmtSF      0.222008     0.052276 -0.079734  0.047778 -0.018889   \n",
       "1stFlrSF         0.164789     0.056146 -0.044743  0.062116 -0.010826   \n",
       "2ndFlrSF         0.230922     0.017528 -0.030958  0.005365 -0.007912   \n",
       "GrLivArea        0.349733     0.057772 -0.061893  0.049926 -0.016177   \n",
       "BsmtFullBath     0.084661     0.013504  0.039134 -0.017437  0.100702   \n",
       "BsmtHalfBath    -0.028353     0.012001 -0.019318  0.047352 -0.046546   \n",
       "FullBath         0.334918    -0.064083 -0.079539  0.055733  0.014311   \n",
       "HalfBath         0.292329     0.076016 -0.045591 -0.017199 -0.024785   \n",
       "BedroomAbvGr     0.056486    -0.019023 -0.013487  0.053527 -0.017327   \n",
       "KitchenAbvGr    -0.112067    -0.051491  0.011482  0.026202  0.043038   \n",
       "TotRmsAbvGrd     0.210283    -0.012083 -0.039184  0.011777 -0.024080   \n",
       "Fireplaces       0.165884     0.157244 -0.000816  0.041374 -0.042424   \n",
       "GarageCars       0.291488     0.009688 -0.052644  0.030809 -0.020147   \n",
       "GarageArea       0.269709     0.006734 -0.030011  0.032180 -0.007660   \n",
       "WoodDeckSF       0.125642    -0.084249  0.013401  0.014244  0.046261   \n",
       "OpenPorchSF      1.000000    -0.030597 -0.065411  0.069556 -0.031089   \n",
       "ScreenPorch     -0.030597     1.000000  0.070877  0.023099  0.057919   \n",
       "MiscVal         -0.065411     0.070877  1.000000  0.034533  0.050153   \n",
       "MoSold           0.069556     0.023099  0.034533  1.000000 -0.183304   \n",
       "YrSold          -0.031089     0.057919  0.050153 -0.183304  1.000000   \n",
       "SalePrice        0.432752     0.073302 -0.073354  0.075377 -0.020323   \n",
       "\n",
       "              SalePrice  \n",
       "MSSubClass     0.145460  \n",
       "LotArea        0.291485  \n",
       "OverallQual    0.819782  \n",
       "OverallCond   -0.202808  \n",
       "YearBuilt      0.648299  \n",
       "YearRemodAdd   0.588594  \n",
       "MasVnrArea     0.397652  \n",
       "BsmtFinSF1     0.351568  \n",
       "BsmtUnfSF      0.165198  \n",
       "TotalBsmtSF    0.564727  \n",
       "1stFlrSF       0.512431  \n",
       "2ndFlrSF       0.303534  \n",
       "GrLivArea      0.684283  \n",
       "BsmtFullBath   0.250525  \n",
       "BsmtHalfBath  -0.011768  \n",
       "FullBath       0.576071  \n",
       "HalfBath       0.294834  \n",
       "BedroomAbvGr   0.159689  \n",
       "KitchenAbvGr  -0.135300  \n",
       "TotRmsAbvGrd   0.468740  \n",
       "Fireplaces     0.397091  \n",
       "GarageCars     0.635145  \n",
       "GarageArea     0.603870  \n",
       "WoodDeckSF     0.293113  \n",
       "OpenPorchSF    0.432752  \n",
       "ScreenPorch    0.073302  \n",
       "MiscVal       -0.073354  \n",
       "MoSold         0.075377  \n",
       "YrSold        -0.020323  \n",
       "SalePrice      1.000000  \n",
       "\n",
       "[30 rows x 30 columns]"
      ]
     },
     "execution_count": 63,
     "metadata": {},
     "output_type": "execute_result"
    }
   ],
   "source": [
    "data_corr = dataset.corr()\n",
    "data_corr"
   ]
  },
  {
   "cell_type": "code",
   "execution_count": 64,
   "id": "2e23c41f",
   "metadata": {},
   "outputs": [
    {
     "data": {
      "image/png": "[encoded data removed]",
      "text/plain": [
       "<Figure size 1152x1152 with 2 Axes>"
      ]
     },
     "metadata": {
      "needs_background": "light"
     },
     "output_type": "display_data"
    }
   ],
   "source": [
    "plt.figure(figsize=(16,16))\n",
    "sns.heatmap(data_corr, annot=True, cmap='cubehelix_r',square=True) \n",
    "plt.show()"
   ]
  },
  {
   "cell_type": "code",
   "execution_count": 65,
   "id": "5a9d842c",
   "metadata": {},
   "outputs": [
    {
     "data": {
      "text/plain": [
       "OverallQual     0.819782\n",
       "GrLivArea       0.684283\n",
       "YearBuilt       0.648299\n",
       "GarageCars      0.635145\n",
       "GarageArea      0.603870\n",
       "YearRemodAdd    0.588594\n",
       "FullBath        0.576071\n",
       "TotalBsmtSF     0.564727\n",
       "1stFlrSF        0.512431\n",
       "TotRmsAbvGrd    0.468740\n",
       "OpenPorchSF     0.432752\n",
       "MasVnrArea      0.397652\n",
       "Fireplaces      0.397091\n",
       "BsmtFinSF1      0.351568\n",
       "2ndFlrSF        0.303534\n",
       "Name: SalePrice, dtype: float64"
      ]
     },
     "execution_count": 65,
     "metadata": {},
     "output_type": "execute_result"
    }
   ],
   "source": [
    "data_corr = data_corr['SalePrice'][:-1]\n",
    "data_corr[abs(data_corr)>=0.30].sort_values(ascending = False)"
   ]
  },
  {
   "cell_type": "code",
   "execution_count": 66,
   "id": "89a2c5ff",
   "metadata": {},
   "outputs": [
    {
     "data": {
      "text/plain": [
       "Index(['MSSubClass', 'LotArea', 'OverallQual', 'OverallCond', 'YearBuilt',\n",
       "       'YearRemodAdd', 'MasVnrArea', 'BsmtFinSF1', 'BsmtUnfSF', 'TotalBsmtSF',\n",
       "       '1stFlrSF', '2ndFlrSF', 'GrLivArea', 'BsmtFullBath', 'BsmtHalfBath',\n",
       "       'FullBath', 'HalfBath', 'BedroomAbvGr', 'KitchenAbvGr', 'TotRmsAbvGrd',\n",
       "       'Fireplaces', 'GarageCars', 'GarageArea', 'WoodDeckSF', 'OpenPorchSF',\n",
       "       'ScreenPorch', 'MiscVal', 'MoSold', 'YrSold', 'SalePrice'],\n",
       "      dtype='object')"
      ]
     },
     "execution_count": 66,
     "metadata": {},
     "output_type": "execute_result"
    }
   ],
   "source": [
    "dataset.columns"
   ]
  },
  {
   "cell_type": "code",
   "execution_count": 67,
   "id": "238e9d2d",
   "metadata": {},
   "outputs": [],
   "source": [
    "datanew = dataset.drop(columns = [ 'BsmtUnfSF', 'BsmtFullBath', 'BsmtHalfBath', 'HalfBath', 'BedroomAbvGr', 'KitchenAbvGr', 'WoodDeckSF', \n",
    "       'ScreenPorch', 'MiscVal', 'MoSold', 'YrSold', 'SalePrice'])"
   ]
  },
  {
   "cell_type": "code",
   "execution_count": 68,
   "id": "194b4fa3",
   "metadata": {},
   "outputs": [
    {
     "data": {
      "text/html": [
       "<div>\n",
       "<style scoped>\n",
       "    .dataframe tbody tr th:only-of-type {\n",
       "        vertical-align: middle;\n",
       "    }\n",
       "\n",
       "    .dataframe tbody tr th {\n",
       "        vertical-align: top;\n",
       "    }\n",
       "\n",
       "    .dataframe thead th {\n",
       "        text-align: right;\n",
       "    }\n",
       "</style>\n",
       "<table border=\"1\" class=\"dataframe\">\n",
       "  <thead>\n",
       "    <tr style=\"text-align: right;\">\n",
       "      <th></th>\n",
       "      <th>MSSubClass</th>\n",
       "      <th>LotArea</th>\n",
       "      <th>OverallQual</th>\n",
       "      <th>OverallCond</th>\n",
       "      <th>YearBuilt</th>\n",
       "      <th>YearRemodAdd</th>\n",
       "      <th>MasVnrArea</th>\n",
       "      <th>BsmtFinSF1</th>\n",
       "      <th>TotalBsmtSF</th>\n",
       "      <th>1stFlrSF</th>\n",
       "      <th>2ndFlrSF</th>\n",
       "      <th>GrLivArea</th>\n",
       "      <th>FullBath</th>\n",
       "      <th>TotRmsAbvGrd</th>\n",
       "      <th>Fireplaces</th>\n",
       "      <th>GarageCars</th>\n",
       "      <th>GarageArea</th>\n",
       "      <th>OpenPorchSF</th>\n",
       "    </tr>\n",
       "  </thead>\n",
       "  <tbody>\n",
       "    <tr>\n",
       "      <th>0</th>\n",
       "      <td>60</td>\n",
       "      <td>8450</td>\n",
       "      <td>7</td>\n",
       "      <td>5</td>\n",
       "      <td>2003</td>\n",
       "      <td>2003</td>\n",
       "      <td>196.0</td>\n",
       "      <td>706</td>\n",
       "      <td>856</td>\n",
       "      <td>856</td>\n",
       "      <td>854</td>\n",
       "      <td>1710</td>\n",
       "      <td>2</td>\n",
       "      <td>8</td>\n",
       "      <td>0</td>\n",
       "      <td>2</td>\n",
       "      <td>548</td>\n",
       "      <td>61</td>\n",
       "    </tr>\n",
       "    <tr>\n",
       "      <th>2</th>\n",
       "      <td>60</td>\n",
       "      <td>11250</td>\n",
       "      <td>7</td>\n",
       "      <td>5</td>\n",
       "      <td>2001</td>\n",
       "      <td>2002</td>\n",
       "      <td>162.0</td>\n",
       "      <td>486</td>\n",
       "      <td>920</td>\n",
       "      <td>920</td>\n",
       "      <td>866</td>\n",
       "      <td>1786</td>\n",
       "      <td>2</td>\n",
       "      <td>6</td>\n",
       "      <td>1</td>\n",
       "      <td>2</td>\n",
       "      <td>608</td>\n",
       "      <td>42</td>\n",
       "    </tr>\n",
       "    <tr>\n",
       "      <th>3</th>\n",
       "      <td>70</td>\n",
       "      <td>9550</td>\n",
       "      <td>7</td>\n",
       "      <td>5</td>\n",
       "      <td>1915</td>\n",
       "      <td>1970</td>\n",
       "      <td>0.0</td>\n",
       "      <td>216</td>\n",
       "      <td>756</td>\n",
       "      <td>961</td>\n",
       "      <td>756</td>\n",
       "      <td>1717</td>\n",
       "      <td>1</td>\n",
       "      <td>7</td>\n",
       "      <td>1</td>\n",
       "      <td>3</td>\n",
       "      <td>642</td>\n",
       "      <td>35</td>\n",
       "    </tr>\n",
       "    <tr>\n",
       "      <th>4</th>\n",
       "      <td>60</td>\n",
       "      <td>14260</td>\n",
       "      <td>8</td>\n",
       "      <td>5</td>\n",
       "      <td>2000</td>\n",
       "      <td>2000</td>\n",
       "      <td>350.0</td>\n",
       "      <td>655</td>\n",
       "      <td>1145</td>\n",
       "      <td>1145</td>\n",
       "      <td>1053</td>\n",
       "      <td>2198</td>\n",
       "      <td>2</td>\n",
       "      <td>9</td>\n",
       "      <td>1</td>\n",
       "      <td>3</td>\n",
       "      <td>836</td>\n",
       "      <td>84</td>\n",
       "    </tr>\n",
       "    <tr>\n",
       "      <th>5</th>\n",
       "      <td>50</td>\n",
       "      <td>14115</td>\n",
       "      <td>5</td>\n",
       "      <td>5</td>\n",
       "      <td>1993</td>\n",
       "      <td>1995</td>\n",
       "      <td>0.0</td>\n",
       "      <td>732</td>\n",
       "      <td>796</td>\n",
       "      <td>796</td>\n",
       "      <td>566</td>\n",
       "      <td>1362</td>\n",
       "      <td>1</td>\n",
       "      <td>5</td>\n",
       "      <td>0</td>\n",
       "      <td>2</td>\n",
       "      <td>480</td>\n",
       "      <td>30</td>\n",
       "    </tr>\n",
       "  </tbody>\n",
       "</table>\n",
       "</div>"
      ],
      "text/plain": [
       "   MSSubClass  LotArea  OverallQual  OverallCond  YearBuilt  YearRemodAdd  \\\n",
       "0          60     8450            7            5       2003          2003   \n",
       "2          60    11250            7            5       2001          2002   \n",
       "3          70     9550            7            5       1915          1970   \n",
       "4          60    14260            8            5       2000          2000   \n",
       "5          50    14115            5            5       1993          1995   \n",
       "\n",
       "   MasVnrArea  BsmtFinSF1  TotalBsmtSF  1stFlrSF  2ndFlrSF  GrLivArea  \\\n",
       "0       196.0         706          856       856       854       1710   \n",
       "2       162.0         486          920       920       866       1786   \n",
       "3         0.0         216          756       961       756       1717   \n",
       "4       350.0         655         1145      1145      1053       2198   \n",
       "5         0.0         732          796       796       566       1362   \n",
       "\n",
       "   FullBath  TotRmsAbvGrd  Fireplaces  GarageCars  GarageArea  OpenPorchSF  \n",
       "0         2             8           0           2         548           61  \n",
       "2         2             6           1           2         608           42  \n",
       "3         1             7           1           3         642           35  \n",
       "4         2             9           1           3         836           84  \n",
       "5         1             5           0           2         480           30  "
      ]
     },
     "execution_count": 68,
     "metadata": {},
     "output_type": "execute_result"
    }
   ],
   "source": [
    "datanew.head()"
   ]
  },
  {
   "cell_type": "code",
   "execution_count": 69,
   "id": "b0cd09a2",
   "metadata": {},
   "outputs": [],
   "source": [
    "datanew['SalePrice'] = dataset['SalePrice']"
   ]
  },
  {
   "cell_type": "code",
   "execution_count": 70,
   "id": "a5b70395",
   "metadata": {
    "scrolled": true
   },
   "outputs": [
    {
     "data": {
      "text/html": [
       "<div>\n",
       "<style scoped>\n",
       "    .dataframe tbody tr th:only-of-type {\n",
       "        vertical-align: middle;\n",
       "    }\n",
       "\n",
       "    .dataframe tbody tr th {\n",
       "        vertical-align: top;\n",
       "    }\n",
       "\n",
       "    .dataframe thead th {\n",
       "        text-align: right;\n",
       "    }\n",
       "</style>\n",
       "<table border=\"1\" class=\"dataframe\">\n",
       "  <thead>\n",
       "    <tr style=\"text-align: right;\">\n",
       "      <th></th>\n",
       "      <th>MSSubClass</th>\n",
       "      <th>LotArea</th>\n",
       "      <th>OverallQual</th>\n",
       "      <th>OverallCond</th>\n",
       "      <th>YearBuilt</th>\n",
       "      <th>YearRemodAdd</th>\n",
       "      <th>MasVnrArea</th>\n",
       "      <th>BsmtFinSF1</th>\n",
       "      <th>TotalBsmtSF</th>\n",
       "      <th>1stFlrSF</th>\n",
       "      <th>2ndFlrSF</th>\n",
       "      <th>GrLivArea</th>\n",
       "      <th>FullBath</th>\n",
       "      <th>TotRmsAbvGrd</th>\n",
       "      <th>Fireplaces</th>\n",
       "      <th>GarageCars</th>\n",
       "      <th>GarageArea</th>\n",
       "      <th>OpenPorchSF</th>\n",
       "      <th>SalePrice</th>\n",
       "    </tr>\n",
       "  </thead>\n",
       "  <tbody>\n",
       "    <tr>\n",
       "      <th>0</th>\n",
       "      <td>60</td>\n",
       "      <td>8450</td>\n",
       "      <td>7</td>\n",
       "      <td>5</td>\n",
       "      <td>2003</td>\n",
       "      <td>2003</td>\n",
       "      <td>196.0</td>\n",
       "      <td>706</td>\n",
       "      <td>856</td>\n",
       "      <td>856</td>\n",
       "      <td>854</td>\n",
       "      <td>1710</td>\n",
       "      <td>2</td>\n",
       "      <td>8</td>\n",
       "      <td>0</td>\n",
       "      <td>2</td>\n",
       "      <td>548</td>\n",
       "      <td>61</td>\n",
       "      <td>208500</td>\n",
       "    </tr>\n",
       "    <tr>\n",
       "      <th>2</th>\n",
       "      <td>60</td>\n",
       "      <td>11250</td>\n",
       "      <td>7</td>\n",
       "      <td>5</td>\n",
       "      <td>2001</td>\n",
       "      <td>2002</td>\n",
       "      <td>162.0</td>\n",
       "      <td>486</td>\n",
       "      <td>920</td>\n",
       "      <td>920</td>\n",
       "      <td>866</td>\n",
       "      <td>1786</td>\n",
       "      <td>2</td>\n",
       "      <td>6</td>\n",
       "      <td>1</td>\n",
       "      <td>2</td>\n",
       "      <td>608</td>\n",
       "      <td>42</td>\n",
       "      <td>223500</td>\n",
       "    </tr>\n",
       "    <tr>\n",
       "      <th>3</th>\n",
       "      <td>70</td>\n",
       "      <td>9550</td>\n",
       "      <td>7</td>\n",
       "      <td>5</td>\n",
       "      <td>1915</td>\n",
       "      <td>1970</td>\n",
       "      <td>0.0</td>\n",
       "      <td>216</td>\n",
       "      <td>756</td>\n",
       "      <td>961</td>\n",
       "      <td>756</td>\n",
       "      <td>1717</td>\n",
       "      <td>1</td>\n",
       "      <td>7</td>\n",
       "      <td>1</td>\n",
       "      <td>3</td>\n",
       "      <td>642</td>\n",
       "      <td>35</td>\n",
       "      <td>140000</td>\n",
       "    </tr>\n",
       "    <tr>\n",
       "      <th>4</th>\n",
       "      <td>60</td>\n",
       "      <td>14260</td>\n",
       "      <td>8</td>\n",
       "      <td>5</td>\n",
       "      <td>2000</td>\n",
       "      <td>2000</td>\n",
       "      <td>350.0</td>\n",
       "      <td>655</td>\n",
       "      <td>1145</td>\n",
       "      <td>1145</td>\n",
       "      <td>1053</td>\n",
       "      <td>2198</td>\n",
       "      <td>2</td>\n",
       "      <td>9</td>\n",
       "      <td>1</td>\n",
       "      <td>3</td>\n",
       "      <td>836</td>\n",
       "      <td>84</td>\n",
       "      <td>250000</td>\n",
       "    </tr>\n",
       "    <tr>\n",
       "      <th>5</th>\n",
       "      <td>50</td>\n",
       "      <td>14115</td>\n",
       "      <td>5</td>\n",
       "      <td>5</td>\n",
       "      <td>1993</td>\n",
       "      <td>1995</td>\n",
       "      <td>0.0</td>\n",
       "      <td>732</td>\n",
       "      <td>796</td>\n",
       "      <td>796</td>\n",
       "      <td>566</td>\n",
       "      <td>1362</td>\n",
       "      <td>1</td>\n",
       "      <td>5</td>\n",
       "      <td>0</td>\n",
       "      <td>2</td>\n",
       "      <td>480</td>\n",
       "      <td>30</td>\n",
       "      <td>143000</td>\n",
       "    </tr>\n",
       "  </tbody>\n",
       "</table>\n",
       "</div>"
      ],
      "text/plain": [
       "   MSSubClass  LotArea  OverallQual  OverallCond  YearBuilt  YearRemodAdd  \\\n",
       "0          60     8450            7            5       2003          2003   \n",
       "2          60    11250            7            5       2001          2002   \n",
       "3          70     9550            7            5       1915          1970   \n",
       "4          60    14260            8            5       2000          2000   \n",
       "5          50    14115            5            5       1993          1995   \n",
       "\n",
       "   MasVnrArea  BsmtFinSF1  TotalBsmtSF  1stFlrSF  2ndFlrSF  GrLivArea  \\\n",
       "0       196.0         706          856       856       854       1710   \n",
       "2       162.0         486          920       920       866       1786   \n",
       "3         0.0         216          756       961       756       1717   \n",
       "4       350.0         655         1145      1145      1053       2198   \n",
       "5         0.0         732          796       796       566       1362   \n",
       "\n",
       "   FullBath  TotRmsAbvGrd  Fireplaces  GarageCars  GarageArea  OpenPorchSF  \\\n",
       "0         2             8           0           2         548           61   \n",
       "2         2             6           1           2         608           42   \n",
       "3         1             7           1           3         642           35   \n",
       "4         2             9           1           3         836           84   \n",
       "5         1             5           0           2         480           30   \n",
       "\n",
       "   SalePrice  \n",
       "0     208500  \n",
       "2     223500  \n",
       "3     140000  \n",
       "4     250000  \n",
       "5     143000  "
      ]
     },
     "execution_count": 70,
     "metadata": {},
     "output_type": "execute_result"
    }
   ],
   "source": [
    "datanew.head()"
   ]
  },
  {
   "cell_type": "code",
   "execution_count": 71,
   "id": "13ad45d2",
   "metadata": {},
   "outputs": [],
   "source": [
    "datanew = datanew.drop('SalePrice', axis = 1)"
   ]
  },
  {
   "cell_type": "markdown",
   "id": "c2b40c17",
   "metadata": {},
   "source": [
    "# Scaling"
   ]
  },
  {
   "cell_type": "code",
   "execution_count": 72,
   "id": "ddb63f89",
   "metadata": {},
   "outputs": [
    {
     "data": {
      "text/html": [
       "<div>\n",
       "<style scoped>\n",
       "    .dataframe tbody tr th:only-of-type {\n",
       "        vertical-align: middle;\n",
       "    }\n",
       "\n",
       "    .dataframe tbody tr th {\n",
       "        vertical-align: top;\n",
       "    }\n",
       "\n",
       "    .dataframe thead th {\n",
       "        text-align: right;\n",
       "    }\n",
       "</style>\n",
       "<table border=\"1\" class=\"dataframe\">\n",
       "  <thead>\n",
       "    <tr style=\"text-align: right;\">\n",
       "      <th></th>\n",
       "      <th>0</th>\n",
       "      <th>1</th>\n",
       "      <th>2</th>\n",
       "      <th>3</th>\n",
       "      <th>4</th>\n",
       "      <th>5</th>\n",
       "      <th>6</th>\n",
       "      <th>7</th>\n",
       "      <th>8</th>\n",
       "      <th>9</th>\n",
       "      <th>10</th>\n",
       "      <th>11</th>\n",
       "      <th>12</th>\n",
       "      <th>13</th>\n",
       "      <th>14</th>\n",
       "      <th>15</th>\n",
       "      <th>16</th>\n",
       "      <th>17</th>\n",
       "    </tr>\n",
       "  </thead>\n",
       "  <tbody>\n",
       "    <tr>\n",
       "      <th>0</th>\n",
       "      <td>0.4</td>\n",
       "      <td>0.380610</td>\n",
       "      <td>0.625</td>\n",
       "      <td>0.333333</td>\n",
       "      <td>0.949580</td>\n",
       "      <td>0.883333</td>\n",
       "      <td>0.463357</td>\n",
       "      <td>0.436072</td>\n",
       "      <td>0.445369</td>\n",
       "      <td>0.243023</td>\n",
       "      <td>0.530106</td>\n",
       "      <td>0.588072</td>\n",
       "      <td>0.666667</td>\n",
       "      <td>0.555556</td>\n",
       "      <td>0.000000</td>\n",
       "      <td>0.50</td>\n",
       "      <td>0.585470</td>\n",
       "      <td>0.455224</td>\n",
       "    </tr>\n",
       "    <tr>\n",
       "      <th>1</th>\n",
       "      <td>0.4</td>\n",
       "      <td>0.572181</td>\n",
       "      <td>0.625</td>\n",
       "      <td>0.333333</td>\n",
       "      <td>0.932773</td>\n",
       "      <td>0.866667</td>\n",
       "      <td>0.382979</td>\n",
       "      <td>0.300185</td>\n",
       "      <td>0.478668</td>\n",
       "      <td>0.280233</td>\n",
       "      <td>0.537554</td>\n",
       "      <td>0.623209</td>\n",
       "      <td>0.666667</td>\n",
       "      <td>0.333333</td>\n",
       "      <td>0.333333</td>\n",
       "      <td>0.50</td>\n",
       "      <td>0.649573</td>\n",
       "      <td>0.313433</td>\n",
       "    </tr>\n",
       "    <tr>\n",
       "      <th>2</th>\n",
       "      <td>0.5</td>\n",
       "      <td>0.455870</td>\n",
       "      <td>0.625</td>\n",
       "      <td>0.333333</td>\n",
       "      <td>0.210084</td>\n",
       "      <td>0.333333</td>\n",
       "      <td>0.000000</td>\n",
       "      <td>0.133416</td>\n",
       "      <td>0.393340</td>\n",
       "      <td>0.304070</td>\n",
       "      <td>0.469274</td>\n",
       "      <td>0.591308</td>\n",
       "      <td>0.333333</td>\n",
       "      <td>0.444444</td>\n",
       "      <td>0.333333</td>\n",
       "      <td>0.75</td>\n",
       "      <td>0.685897</td>\n",
       "      <td>0.261194</td>\n",
       "    </tr>\n",
       "    <tr>\n",
       "      <th>3</th>\n",
       "      <td>0.4</td>\n",
       "      <td>0.778120</td>\n",
       "      <td>0.750</td>\n",
       "      <td>0.333333</td>\n",
       "      <td>0.924370</td>\n",
       "      <td>0.833333</td>\n",
       "      <td>0.827423</td>\n",
       "      <td>0.404571</td>\n",
       "      <td>0.595734</td>\n",
       "      <td>0.411047</td>\n",
       "      <td>0.653631</td>\n",
       "      <td>0.813685</td>\n",
       "      <td>0.666667</td>\n",
       "      <td>0.666667</td>\n",
       "      <td>0.333333</td>\n",
       "      <td>0.75</td>\n",
       "      <td>0.893162</td>\n",
       "      <td>0.626866</td>\n",
       "    </tr>\n",
       "    <tr>\n",
       "      <th>4</th>\n",
       "      <td>0.3</td>\n",
       "      <td>0.768199</td>\n",
       "      <td>0.375</td>\n",
       "      <td>0.333333</td>\n",
       "      <td>0.865546</td>\n",
       "      <td>0.750000</td>\n",
       "      <td>0.000000</td>\n",
       "      <td>0.452131</td>\n",
       "      <td>0.414152</td>\n",
       "      <td>0.208140</td>\n",
       "      <td>0.351335</td>\n",
       "      <td>0.427184</td>\n",
       "      <td>0.333333</td>\n",
       "      <td>0.222222</td>\n",
       "      <td>0.000000</td>\n",
       "      <td>0.50</td>\n",
       "      <td>0.512821</td>\n",
       "      <td>0.223881</td>\n",
       "    </tr>\n",
       "    <tr>\n",
       "      <th>...</th>\n",
       "      <td>...</td>\n",
       "      <td>...</td>\n",
       "      <td>...</td>\n",
       "      <td>...</td>\n",
       "      <td>...</td>\n",
       "      <td>...</td>\n",
       "      <td>...</td>\n",
       "      <td>...</td>\n",
       "      <td>...</td>\n",
       "      <td>...</td>\n",
       "      <td>...</td>\n",
       "      <td>...</td>\n",
       "      <td>...</td>\n",
       "      <td>...</td>\n",
       "      <td>...</td>\n",
       "      <td>...</td>\n",
       "      <td>...</td>\n",
       "      <td>...</td>\n",
       "    </tr>\n",
       "    <tr>\n",
       "      <th>943</th>\n",
       "      <td>0.0</td>\n",
       "      <td>0.980432</td>\n",
       "      <td>0.375</td>\n",
       "      <td>0.333333</td>\n",
       "      <td>0.974790</td>\n",
       "      <td>0.933333</td>\n",
       "      <td>0.000000</td>\n",
       "      <td>0.000000</td>\n",
       "      <td>0.593132</td>\n",
       "      <td>0.408140</td>\n",
       "      <td>0.000000</td>\n",
       "      <td>0.324549</td>\n",
       "      <td>0.333333</td>\n",
       "      <td>0.333333</td>\n",
       "      <td>0.000000</td>\n",
       "      <td>0.00</td>\n",
       "      <td>0.000000</td>\n",
       "      <td>0.417910</td>\n",
       "    </tr>\n",
       "    <tr>\n",
       "      <th>944</th>\n",
       "      <td>0.0</td>\n",
       "      <td>0.315613</td>\n",
       "      <td>0.625</td>\n",
       "      <td>0.333333</td>\n",
       "      <td>0.957983</td>\n",
       "      <td>0.916667</td>\n",
       "      <td>0.000000</td>\n",
       "      <td>0.253243</td>\n",
       "      <td>0.635276</td>\n",
       "      <td>0.455233</td>\n",
       "      <td>0.000000</td>\n",
       "      <td>0.361997</td>\n",
       "      <td>0.666667</td>\n",
       "      <td>0.333333</td>\n",
       "      <td>0.000000</td>\n",
       "      <td>0.50</td>\n",
       "      <td>0.427350</td>\n",
       "      <td>0.843284</td>\n",
       "    </tr>\n",
       "    <tr>\n",
       "      <th>945</th>\n",
       "      <td>0.4</td>\n",
       "      <td>0.344143</td>\n",
       "      <td>0.500</td>\n",
       "      <td>0.333333</td>\n",
       "      <td>0.915966</td>\n",
       "      <td>0.833333</td>\n",
       "      <td>0.000000</td>\n",
       "      <td>0.000000</td>\n",
       "      <td>0.495838</td>\n",
       "      <td>0.299419</td>\n",
       "      <td>0.430788</td>\n",
       "      <td>0.558946</td>\n",
       "      <td>0.666667</td>\n",
       "      <td>0.444444</td>\n",
       "      <td>0.333333</td>\n",
       "      <td>0.50</td>\n",
       "      <td>0.491453</td>\n",
       "      <td>0.298507</td>\n",
       "    </tr>\n",
       "    <tr>\n",
       "      <th>946</th>\n",
       "      <td>0.0</td>\n",
       "      <td>0.703886</td>\n",
       "      <td>0.500</td>\n",
       "      <td>0.666667</td>\n",
       "      <td>0.739496</td>\n",
       "      <td>0.633333</td>\n",
       "      <td>0.281324</td>\n",
       "      <td>0.487956</td>\n",
       "      <td>0.802289</td>\n",
       "      <td>0.950581</td>\n",
       "      <td>0.000000</td>\n",
       "      <td>0.755895</td>\n",
       "      <td>0.666667</td>\n",
       "      <td>0.444444</td>\n",
       "      <td>0.666667</td>\n",
       "      <td>0.50</td>\n",
       "      <td>0.534188</td>\n",
       "      <td>0.000000</td>\n",
       "    </tr>\n",
       "    <tr>\n",
       "      <th>947</th>\n",
       "      <td>0.0</td>\n",
       "      <td>0.467296</td>\n",
       "      <td>0.375</td>\n",
       "      <td>0.666667</td>\n",
       "      <td>0.504202</td>\n",
       "      <td>0.766667</td>\n",
       "      <td>0.000000</td>\n",
       "      <td>0.030266</td>\n",
       "      <td>0.560874</td>\n",
       "      <td>0.372093</td>\n",
       "      <td>0.000000</td>\n",
       "      <td>0.295885</td>\n",
       "      <td>0.333333</td>\n",
       "      <td>0.222222</td>\n",
       "      <td>0.000000</td>\n",
       "      <td>0.25</td>\n",
       "      <td>0.256410</td>\n",
       "      <td>0.000000</td>\n",
       "    </tr>\n",
       "  </tbody>\n",
       "</table>\n",
       "<p>948 rows × 18 columns</p>\n",
       "</div>"
      ],
      "text/plain": [
       "      0         1      2         3         4         5         6         7   \\\n",
       "0    0.4  0.380610  0.625  0.333333  0.949580  0.883333  0.463357  0.436072   \n",
       "1    0.4  0.572181  0.625  0.333333  0.932773  0.866667  0.382979  0.300185   \n",
       "2    0.5  0.455870  0.625  0.333333  0.210084  0.333333  0.000000  0.133416   \n",
       "3    0.4  0.778120  0.750  0.333333  0.924370  0.833333  0.827423  0.404571   \n",
       "4    0.3  0.768199  0.375  0.333333  0.865546  0.750000  0.000000  0.452131   \n",
       "..   ...       ...    ...       ...       ...       ...       ...       ...   \n",
       "943  0.0  0.980432  0.375  0.333333  0.974790  0.933333  0.000000  0.000000   \n",
       "944  0.0  0.315613  0.625  0.333333  0.957983  0.916667  0.000000  0.253243   \n",
       "945  0.4  0.344143  0.500  0.333333  0.915966  0.833333  0.000000  0.000000   \n",
       "946  0.0  0.703886  0.500  0.666667  0.739496  0.633333  0.281324  0.487956   \n",
       "947  0.0  0.467296  0.375  0.666667  0.504202  0.766667  0.000000  0.030266   \n",
       "\n",
       "           8         9         10        11        12        13        14  \\\n",
       "0    0.445369  0.243023  0.530106  0.588072  0.666667  0.555556  0.000000   \n",
       "1    0.478668  0.280233  0.537554  0.623209  0.666667  0.333333  0.333333   \n",
       "2    0.393340  0.304070  0.469274  0.591308  0.333333  0.444444  0.333333   \n",
       "3    0.595734  0.411047  0.653631  0.813685  0.666667  0.666667  0.333333   \n",
       "4    0.414152  0.208140  0.351335  0.427184  0.333333  0.222222  0.000000   \n",
       "..        ...       ...       ...       ...       ...       ...       ...   \n",
       "943  0.593132  0.408140  0.000000  0.324549  0.333333  0.333333  0.000000   \n",
       "944  0.635276  0.455233  0.000000  0.361997  0.666667  0.333333  0.000000   \n",
       "945  0.495838  0.299419  0.430788  0.558946  0.666667  0.444444  0.333333   \n",
       "946  0.802289  0.950581  0.000000  0.755895  0.666667  0.444444  0.666667   \n",
       "947  0.560874  0.372093  0.000000  0.295885  0.333333  0.222222  0.000000   \n",
       "\n",
       "       15        16        17  \n",
       "0    0.50  0.585470  0.455224  \n",
       "1    0.50  0.649573  0.313433  \n",
       "2    0.75  0.685897  0.261194  \n",
       "3    0.75  0.893162  0.626866  \n",
       "4    0.50  0.512821  0.223881  \n",
       "..    ...       ...       ...  \n",
       "943  0.00  0.000000  0.417910  \n",
       "944  0.50  0.427350  0.843284  \n",
       "945  0.50  0.491453  0.298507  \n",
       "946  0.50  0.534188  0.000000  \n",
       "947  0.25  0.256410  0.000000  \n",
       "\n",
       "[948 rows x 18 columns]"
      ]
     },
     "execution_count": 72,
     "metadata": {},
     "output_type": "execute_result"
    }
   ],
   "source": [
    "from sklearn.preprocessing import MinMaxScaler\n",
    "sc = MinMaxScaler()\n",
    "datanew = sc.fit_transform(datanew)\n",
    "datanew = pd.DataFrame(datanew)\n",
    "datanew"
   ]
  },
  {
   "cell_type": "markdown",
   "id": "83c4a167",
   "metadata": {},
   "source": [
    "# PCA"
   ]
  },
  {
   "cell_type": "code",
   "execution_count": 83,
   "id": "13fdf955",
   "metadata": {},
   "outputs": [
    {
     "data": {
      "text/html": [
       "<div>\n",
       "<style scoped>\n",
       "    .dataframe tbody tr th:only-of-type {\n",
       "        vertical-align: middle;\n",
       "    }\n",
       "\n",
       "    .dataframe tbody tr th {\n",
       "        vertical-align: top;\n",
       "    }\n",
       "\n",
       "    .dataframe thead th {\n",
       "        text-align: right;\n",
       "    }\n",
       "</style>\n",
       "<table border=\"1\" class=\"dataframe\">\n",
       "  <thead>\n",
       "    <tr style=\"text-align: right;\">\n",
       "      <th></th>\n",
       "      <th>0</th>\n",
       "      <th>1</th>\n",
       "      <th>2</th>\n",
       "    </tr>\n",
       "  </thead>\n",
       "  <tbody>\n",
       "    <tr>\n",
       "      <th>0</th>\n",
       "      <td>25667.021097</td>\n",
       "      <td>0.628904</td>\n",
       "      <td>0.232818</td>\n",
       "    </tr>\n",
       "    <tr>\n",
       "      <th>1</th>\n",
       "      <td>-1332.978903</td>\n",
       "      <td>0.601665</td>\n",
       "      <td>0.234454</td>\n",
       "    </tr>\n",
       "    <tr>\n",
       "      <th>2</th>\n",
       "      <td>40667.021097</td>\n",
       "      <td>-0.062721</td>\n",
       "      <td>0.471370</td>\n",
       "    </tr>\n",
       "    <tr>\n",
       "      <th>3</th>\n",
       "      <td>-42832.978903</td>\n",
       "      <td>1.080772</td>\n",
       "      <td>0.200680</td>\n",
       "    </tr>\n",
       "    <tr>\n",
       "      <th>4</th>\n",
       "      <td>67167.021097</td>\n",
       "      <td>0.116286</td>\n",
       "      <td>0.000966</td>\n",
       "    </tr>\n",
       "    <tr>\n",
       "      <th>...</th>\n",
       "      <td>...</td>\n",
       "      <td>...</td>\n",
       "      <td>...</td>\n",
       "    </tr>\n",
       "    <tr>\n",
       "      <th>943</th>\n",
       "      <td>-39832.978903</td>\n",
       "      <td>-0.031123</td>\n",
       "      <td>-0.258913</td>\n",
       "    </tr>\n",
       "    <tr>\n",
       "      <th>944</th>\n",
       "      <td>-45332.978903</td>\n",
       "      <td>0.431136</td>\n",
       "      <td>-0.314297</td>\n",
       "    </tr>\n",
       "    <tr>\n",
       "      <th>945</th>\n",
       "      <td>-57932.978903</td>\n",
       "      <td>0.357010</td>\n",
       "      <td>0.360698</td>\n",
       "    </tr>\n",
       "    <tr>\n",
       "      <th>946</th>\n",
       "      <td>-39832.978903</td>\n",
       "      <td>0.310487</td>\n",
       "      <td>-0.523810</td>\n",
       "    </tr>\n",
       "    <tr>\n",
       "      <th>947</th>\n",
       "      <td>87167.021097</td>\n",
       "      <td>-0.412695</td>\n",
       "      <td>-0.232275</td>\n",
       "    </tr>\n",
       "  </tbody>\n",
       "</table>\n",
       "<p>948 rows × 3 columns</p>\n",
       "</div>"
      ],
      "text/plain": [
       "                0         1         2\n",
       "0    25667.021097  0.628904  0.232818\n",
       "1    -1332.978903  0.601665  0.234454\n",
       "2    40667.021097 -0.062721  0.471370\n",
       "3   -42832.978903  1.080772  0.200680\n",
       "4    67167.021097  0.116286  0.000966\n",
       "..            ...       ...       ...\n",
       "943 -39832.978903 -0.031123 -0.258913\n",
       "944 -45332.978903  0.431136 -0.314297\n",
       "945 -57932.978903  0.357010  0.360698\n",
       "946 -39832.978903  0.310487 -0.523810\n",
       "947  87167.021097 -0.412695 -0.232275\n",
       "\n",
       "[948 rows x 3 columns]"
      ]
     },
     "execution_count": 83,
     "metadata": {},
     "output_type": "execute_result"
    }
   ],
   "source": [
    "from sklearn.decomposition import PCA\n",
    "pca = PCA(n_components = 3)\n",
    "datanew = pca.fit_transform(datanew)\n",
    "datanew = pd.DataFrame(datanew)\n",
    "datanew"
   ]
  },
  {
   "cell_type": "code",
   "execution_count": 84,
   "id": "83ded6b3",
   "metadata": {},
   "outputs": [
    {
     "data": {
      "text/plain": [
       "0    208500\n",
       "1    181500\n",
       "2    223500\n",
       "3    140000\n",
       "4    250000\n",
       "Name: SalePrice, dtype: int64"
      ]
     },
     "execution_count": 84,
     "metadata": {},
     "output_type": "execute_result"
    }
   ],
   "source": [
    "dependent.head()"
   ]
  },
  {
   "cell_type": "code",
   "execution_count": 85,
   "id": "91fdd461",
   "metadata": {},
   "outputs": [
    {
     "data": {
      "text/plain": [
       "0"
      ]
     },
     "execution_count": 85,
     "metadata": {},
     "output_type": "execute_result"
    }
   ],
   "source": [
    "dependent.isnull().sum()"
   ]
  },
  {
   "cell_type": "code",
   "execution_count": 86,
   "id": "a6e4742c",
   "metadata": {},
   "outputs": [
    {
     "data": {
      "text/html": [
       "<div>\n",
       "<style scoped>\n",
       "    .dataframe tbody tr th:only-of-type {\n",
       "        vertical-align: middle;\n",
       "    }\n",
       "\n",
       "    .dataframe tbody tr th {\n",
       "        vertical-align: top;\n",
       "    }\n",
       "\n",
       "    .dataframe thead th {\n",
       "        text-align: right;\n",
       "    }\n",
       "</style>\n",
       "<table border=\"1\" class=\"dataframe\">\n",
       "  <thead>\n",
       "    <tr style=\"text-align: right;\">\n",
       "      <th></th>\n",
       "      <th>0</th>\n",
       "      <th>1</th>\n",
       "      <th>2</th>\n",
       "      <th>SalePrice</th>\n",
       "    </tr>\n",
       "  </thead>\n",
       "  <tbody>\n",
       "    <tr>\n",
       "      <th>0</th>\n",
       "      <td>25667.021097</td>\n",
       "      <td>0.628904</td>\n",
       "      <td>0.232818</td>\n",
       "      <td>208500</td>\n",
       "    </tr>\n",
       "    <tr>\n",
       "      <th>1</th>\n",
       "      <td>-1332.978903</td>\n",
       "      <td>0.601665</td>\n",
       "      <td>0.234454</td>\n",
       "      <td>181500</td>\n",
       "    </tr>\n",
       "    <tr>\n",
       "      <th>2</th>\n",
       "      <td>40667.021097</td>\n",
       "      <td>-0.062721</td>\n",
       "      <td>0.471370</td>\n",
       "      <td>223500</td>\n",
       "    </tr>\n",
       "    <tr>\n",
       "      <th>3</th>\n",
       "      <td>-42832.978903</td>\n",
       "      <td>1.080772</td>\n",
       "      <td>0.200680</td>\n",
       "      <td>140000</td>\n",
       "    </tr>\n",
       "    <tr>\n",
       "      <th>4</th>\n",
       "      <td>67167.021097</td>\n",
       "      <td>0.116286</td>\n",
       "      <td>0.000966</td>\n",
       "      <td>250000</td>\n",
       "    </tr>\n",
       "    <tr>\n",
       "      <th>...</th>\n",
       "      <td>...</td>\n",
       "      <td>...</td>\n",
       "      <td>...</td>\n",
       "      <td>...</td>\n",
       "    </tr>\n",
       "    <tr>\n",
       "      <th>943</th>\n",
       "      <td>-39832.978903</td>\n",
       "      <td>-0.031123</td>\n",
       "      <td>-0.258913</td>\n",
       "      <td>143000</td>\n",
       "    </tr>\n",
       "    <tr>\n",
       "      <th>944</th>\n",
       "      <td>-45332.978903</td>\n",
       "      <td>0.431136</td>\n",
       "      <td>-0.314297</td>\n",
       "      <td>137500</td>\n",
       "    </tr>\n",
       "    <tr>\n",
       "      <th>945</th>\n",
       "      <td>-57932.978903</td>\n",
       "      <td>0.357010</td>\n",
       "      <td>0.360698</td>\n",
       "      <td>124900</td>\n",
       "    </tr>\n",
       "    <tr>\n",
       "      <th>946</th>\n",
       "      <td>-39832.978903</td>\n",
       "      <td>0.310487</td>\n",
       "      <td>-0.523810</td>\n",
       "      <td>143000</td>\n",
       "    </tr>\n",
       "    <tr>\n",
       "      <th>947</th>\n",
       "      <td>87167.021097</td>\n",
       "      <td>-0.412695</td>\n",
       "      <td>-0.232275</td>\n",
       "      <td>270000</td>\n",
       "    </tr>\n",
       "  </tbody>\n",
       "</table>\n",
       "<p>948 rows × 4 columns</p>\n",
       "</div>"
      ],
      "text/plain": [
       "                0         1         2  SalePrice\n",
       "0    25667.021097  0.628904  0.232818     208500\n",
       "1    -1332.978903  0.601665  0.234454     181500\n",
       "2    40667.021097 -0.062721  0.471370     223500\n",
       "3   -42832.978903  1.080772  0.200680     140000\n",
       "4    67167.021097  0.116286  0.000966     250000\n",
       "..            ...       ...       ...        ...\n",
       "943 -39832.978903 -0.031123 -0.258913     143000\n",
       "944 -45332.978903  0.431136 -0.314297     137500\n",
       "945 -57932.978903  0.357010  0.360698     124900\n",
       "946 -39832.978903  0.310487 -0.523810     143000\n",
       "947  87167.021097 -0.412695 -0.232275     270000\n",
       "\n",
       "[948 rows x 4 columns]"
      ]
     },
     "execution_count": 86,
     "metadata": {},
     "output_type": "execute_result"
    }
   ],
   "source": [
    "datanew['SalePrice'] = dependent\n",
    "datanew"
   ]
  },
  {
   "cell_type": "markdown",
   "id": "5fdde431",
   "metadata": {},
   "source": [
    "# Spliting  Dataset"
   ]
  },
  {
   "cell_type": "code",
   "execution_count": 87,
   "id": "a3a34361",
   "metadata": {},
   "outputs": [],
   "source": [
    "from sklearn.model_selection import train_test_split\n",
    "train, test= train_test_split(datanew, test_size=0.25)"
   ]
  },
  {
   "cell_type": "code",
   "execution_count": 88,
   "id": "d23ff052",
   "metadata": {},
   "outputs": [
    {
     "data": {
      "text/html": [
       "<div>\n",
       "<style scoped>\n",
       "    .dataframe tbody tr th:only-of-type {\n",
       "        vertical-align: middle;\n",
       "    }\n",
       "\n",
       "    .dataframe tbody tr th {\n",
       "        vertical-align: top;\n",
       "    }\n",
       "\n",
       "    .dataframe thead th {\n",
       "        text-align: right;\n",
       "    }\n",
       "</style>\n",
       "<table border=\"1\" class=\"dataframe\">\n",
       "  <thead>\n",
       "    <tr style=\"text-align: right;\">\n",
       "      <th></th>\n",
       "      <th>0</th>\n",
       "      <th>1</th>\n",
       "      <th>2</th>\n",
       "      <th>SalePrice</th>\n",
       "    </tr>\n",
       "  </thead>\n",
       "  <tbody>\n",
       "    <tr>\n",
       "      <th>926</th>\n",
       "      <td>102167.021097</td>\n",
       "      <td>-0.571593</td>\n",
       "      <td>0.154173</td>\n",
       "      <td>285000</td>\n",
       "    </tr>\n",
       "    <tr>\n",
       "      <th>0</th>\n",
       "      <td>25667.021097</td>\n",
       "      <td>0.628904</td>\n",
       "      <td>0.232818</td>\n",
       "      <td>208500</td>\n",
       "    </tr>\n",
       "    <tr>\n",
       "      <th>669</th>\n",
       "      <td>-45332.978903</td>\n",
       "      <td>0.947216</td>\n",
       "      <td>-0.777580</td>\n",
       "      <td>137500</td>\n",
       "    </tr>\n",
       "    <tr>\n",
       "      <th>483</th>\n",
       "      <td>-18832.978903</td>\n",
       "      <td>0.883589</td>\n",
       "      <td>0.391235</td>\n",
       "      <td>164000</td>\n",
       "    </tr>\n",
       "    <tr>\n",
       "      <th>719</th>\n",
       "      <td>-54332.978903</td>\n",
       "      <td>-0.511254</td>\n",
       "      <td>-0.242328</td>\n",
       "      <td>128500</td>\n",
       "    </tr>\n",
       "  </tbody>\n",
       "</table>\n",
       "</div>"
      ],
      "text/plain": [
       "                 0         1         2  SalePrice\n",
       "926  102167.021097 -0.571593  0.154173     285000\n",
       "0     25667.021097  0.628904  0.232818     208500\n",
       "669  -45332.978903  0.947216 -0.777580     137500\n",
       "483  -18832.978903  0.883589  0.391235     164000\n",
       "719  -54332.978903 -0.511254 -0.242328     128500"
      ]
     },
     "execution_count": 88,
     "metadata": {},
     "output_type": "execute_result"
    }
   ],
   "source": [
    "train.head()"
   ]
  },
  {
   "cell_type": "code",
   "execution_count": 89,
   "id": "cea0530e",
   "metadata": {
    "scrolled": true
   },
   "outputs": [
    {
     "data": {
      "text/html": [
       "<div>\n",
       "<style scoped>\n",
       "    .dataframe tbody tr th:only-of-type {\n",
       "        vertical-align: middle;\n",
       "    }\n",
       "\n",
       "    .dataframe tbody tr th {\n",
       "        vertical-align: top;\n",
       "    }\n",
       "\n",
       "    .dataframe thead th {\n",
       "        text-align: right;\n",
       "    }\n",
       "</style>\n",
       "<table border=\"1\" class=\"dataframe\">\n",
       "  <thead>\n",
       "    <tr style=\"text-align: right;\">\n",
       "      <th></th>\n",
       "      <th>0</th>\n",
       "      <th>1</th>\n",
       "      <th>2</th>\n",
       "      <th>SalePrice</th>\n",
       "    </tr>\n",
       "  </thead>\n",
       "  <tbody>\n",
       "    <tr>\n",
       "      <th>274</th>\n",
       "      <td>-58332.978903</td>\n",
       "      <td>0.171274</td>\n",
       "      <td>-0.503682</td>\n",
       "      <td>124500</td>\n",
       "    </tr>\n",
       "    <tr>\n",
       "      <th>380</th>\n",
       "      <td>-55832.978903</td>\n",
       "      <td>0.411025</td>\n",
       "      <td>0.291844</td>\n",
       "      <td>127000</td>\n",
       "    </tr>\n",
       "    <tr>\n",
       "      <th>875</th>\n",
       "      <td>120644.021097</td>\n",
       "      <td>0.828847</td>\n",
       "      <td>0.303959</td>\n",
       "      <td>303477</td>\n",
       "    </tr>\n",
       "    <tr>\n",
       "      <th>923</th>\n",
       "      <td>10167.021097</td>\n",
       "      <td>0.171732</td>\n",
       "      <td>0.157546</td>\n",
       "      <td>193000</td>\n",
       "    </tr>\n",
       "    <tr>\n",
       "      <th>896</th>\n",
       "      <td>-76332.978903</td>\n",
       "      <td>0.086017</td>\n",
       "      <td>-0.436257</td>\n",
       "      <td>106500</td>\n",
       "    </tr>\n",
       "  </tbody>\n",
       "</table>\n",
       "</div>"
      ],
      "text/plain": [
       "                 0         1         2  SalePrice\n",
       "274  -58332.978903  0.171274 -0.503682     124500\n",
       "380  -55832.978903  0.411025  0.291844     127000\n",
       "875  120644.021097  0.828847  0.303959     303477\n",
       "923   10167.021097  0.171732  0.157546     193000\n",
       "896  -76332.978903  0.086017 -0.436257     106500"
      ]
     },
     "execution_count": 89,
     "metadata": {},
     "output_type": "execute_result"
    }
   ],
   "source": [
    "test.head()"
   ]
  },
  {
   "cell_type": "code",
   "execution_count": 90,
   "id": "1de34a7e",
   "metadata": {},
   "outputs": [],
   "source": [
    "y_train = train['SalePrice']\n",
    "X_train = train.drop('SalePrice', axis = 1)\n",
    "y_test = test['SalePrice']\n",
    "X_test = test.drop('SalePrice', axis = 1)"
   ]
  },
  {
   "cell_type": "markdown",
   "id": "2532412f",
   "metadata": {},
   "source": [
    "# Linear Regression"
   ]
  },
  {
   "cell_type": "code",
   "execution_count": 92,
   "id": "381d17a1",
   "metadata": {},
   "outputs": [
    {
     "data": {
      "text/html": [
       "<style>#sk-container-id-1 {color: black;background-color: white;}#sk-container-id-1 pre{padding: 0;}#sk-container-id-1 div.sk-toggleable {background-color: white;}#sk-container-id-1 label.sk-toggleable__label {cursor: pointer;display: block;width: 100%;margin-bottom: 0;padding: 0.3em;box-sizing: border-box;text-align: center;}#sk-container-id-1 label.sk-toggleable__label-arrow:before {content: \"▸\";float: left;margin-right: 0.25em;color: #696969;}#sk-container-id-1 label.sk-toggleable__label-arrow:hover:before {color: black;}#sk-container-id-1 div.sk-estimator:hover label.sk-toggleable__label-arrow:before {color: black;}#sk-container-id-1 div.sk-toggleable__content {max-height: 0;max-width: 0;overflow: hidden;text-align: left;background-color: #f0f8ff;}#sk-container-id-1 div.sk-toggleable__content pre {margin: 0.2em;color: black;border-radius: 0.25em;background-color: #f0f8ff;}#sk-container-id-1 input.sk-toggleable__control:checked~div.sk-toggleable__content {max-height: 200px;max-width: 100%;overflow: auto;}#sk-container-id-1 input.sk-toggleable__control:checked~label.sk-toggleable__label-arrow:before {content: \"▾\";}#sk-container-id-1 div.sk-estimator input.sk-toggleable__control:checked~label.sk-toggleable__label {background-color: #d4ebff;}#sk-container-id-1 div.sk-label input.sk-toggleable__control:checked~label.sk-toggleable__label {background-color: #d4ebff;}#sk-container-id-1 input.sk-hidden--visually {border: 0;clip: rect(1px 1px 1px 1px);clip: rect(1px, 1px, 1px, 1px);height: 1px;margin: -1px;overflow: hidden;padding: 0;position: absolute;width: 1px;}#sk-container-id-1 div.sk-estimator {font-family: monospace;background-color: #f0f8ff;border: 1px dotted black;border-radius: 0.25em;box-sizing: border-box;margin-bottom: 0.5em;}#sk-container-id-1 div.sk-estimator:hover {background-color: #d4ebff;}#sk-container-id-1 div.sk-parallel-item::after {content: \"\";width: 100%;border-bottom: 1px solid gray;flex-grow: 1;}#sk-container-id-1 div.sk-label:hover label.sk-toggleable__label {background-color: #d4ebff;}#sk-container-id-1 div.sk-serial::before {content: \"\";position: absolute;border-left: 1px solid gray;box-sizing: border-box;top: 0;bottom: 0;left: 50%;z-index: 0;}#sk-container-id-1 div.sk-serial {display: flex;flex-direction: column;align-items: center;background-color: white;padding-right: 0.2em;padding-left: 0.2em;position: relative;}#sk-container-id-1 div.sk-item {position: relative;z-index: 1;}#sk-container-id-1 div.sk-parallel {display: flex;align-items: stretch;justify-content: center;background-color: white;position: relative;}#sk-container-id-1 div.sk-item::before, #sk-container-id-1 div.sk-parallel-item::before {content: \"\";position: absolute;border-left: 1px solid gray;box-sizing: border-box;top: 0;bottom: 0;left: 50%;z-index: -1;}#sk-container-id-1 div.sk-parallel-item {display: flex;flex-direction: column;z-index: 1;position: relative;background-color: white;}#sk-container-id-1 div.sk-parallel-item:first-child::after {align-self: flex-end;width: 50%;}#sk-container-id-1 div.sk-parallel-item:last-child::after {align-self: flex-start;width: 50%;}#sk-container-id-1 div.sk-parallel-item:only-child::after {width: 0;}#sk-container-id-1 div.sk-dashed-wrapped {border: 1px dashed gray;margin: 0 0.4em 0.5em 0.4em;box-sizing: border-box;padding-bottom: 0.4em;background-color: white;}#sk-container-id-1 div.sk-label label {font-family: monospace;font-weight: bold;display: inline-block;line-height: 1.2em;}#sk-container-id-1 div.sk-label-container {text-align: center;}#sk-container-id-1 div.sk-container {/* jupyter's `normalize.less` sets `[hidden] { display: none; }` but bootstrap.min.css set `[hidden] { display: none !important; }` so we also need the `!important` here to be able to override the default hidden behavior on the sphinx rendered scikit-learn.org. See: https://github.com/scikit-learn/scikit-learn/issues/21755 */display: inline-block !important;position: relative;}#sk-container-id-1 div.sk-text-repr-fallback {display: none;}</style><div id=\"sk-container-id-1\" class=\"sk-top-container\"><div class=\"sk-text-repr-fallback\"><pre>LinearRegression()</pre><b>In a Jupyter environment, please rerun this cell to show the HTML representation or trust the notebook. <br />On GitHub, the HTML representation is unable to render, please try loading this page with nbviewer.org.</b></div><div class=\"sk-container\" hidden><div class=\"sk-item\"><div class=\"sk-estimator sk-toggleable\"><input class=\"sk-toggleable__control sk-hidden--visually\" id=\"sk-estimator-id-1\" type=\"checkbox\" checked><label for=\"sk-estimator-id-1\" class=\"sk-toggleable__label sk-toggleable__label-arrow\">LinearRegression</label><div class=\"sk-toggleable__content\"><pre>LinearRegression()</pre></div></div></div></div></div>"
      ],
      "text/plain": [
       "LinearRegression()"
      ]
     },
     "execution_count": 92,
     "metadata": {},
     "output_type": "execute_result"
    }
   ],
   "source": [
    "from sklearn.linear_model import LinearRegression\n",
    "LR = LinearRegression()\n",
    "LR.fit(X_train, y_train)"
   ]
  },
  {
   "cell_type": "code",
   "execution_count": 94,
   "id": "815efd4f",
   "metadata": {},
   "outputs": [
    {
     "data": {
      "text/plain": [
       "1.0"
      ]
     },
     "execution_count": 94,
     "metadata": {},
     "output_type": "execute_result"
    }
   ],
   "source": [
    "from sklearn.metrics import r2_score\n",
    "pred_train = LR.predict(X_train)\n",
    "model_score_train = r2_score(y_train, pred_train)\n",
    "model_score_train"
   ]
  },
  {
   "cell_type": "code",
   "execution_count": 96,
   "id": "377bd3eb",
   "metadata": {},
   "outputs": [
    {
     "name": "stdout",
     "output_type": "stream",
     "text": [
      "Model score is: 1.0\n",
      "R_Squared Score of linear regression: 1.0\n"
     ]
    }
   ],
   "source": [
    "from sklearn.metrics import mean_squared_error,mean_absolute_error, r2_score\n",
    "\n",
    "model_pred = LR.predict(X_test)\n",
    "model_score= LR.score(X_test, y_test)\n",
    "print('Model score is:', model_score)\n",
    "print('R_Squared Score of linear regression:', r2_score(y_test, model_pred))"
   ]
  },
  {
   "cell_type": "code",
   "execution_count": 97,
   "id": "a0206d1b",
   "metadata": {},
   "outputs": [
    {
     "data": {
      "text/html": [
       "<div>\n",
       "<style scoped>\n",
       "    .dataframe tbody tr th:only-of-type {\n",
       "        vertical-align: middle;\n",
       "    }\n",
       "\n",
       "    .dataframe tbody tr th {\n",
       "        vertical-align: top;\n",
       "    }\n",
       "\n",
       "    .dataframe thead th {\n",
       "        text-align: right;\n",
       "    }\n",
       "</style>\n",
       "<table border=\"1\" class=\"dataframe\">\n",
       "  <thead>\n",
       "    <tr style=\"text-align: right;\">\n",
       "      <th></th>\n",
       "      <th>SalePrice</th>\n",
       "      <th>Actual SalePrice</th>\n",
       "    </tr>\n",
       "  </thead>\n",
       "  <tbody>\n",
       "    <tr>\n",
       "      <th>274</th>\n",
       "      <td>124500.0</td>\n",
       "      <td>124500</td>\n",
       "    </tr>\n",
       "    <tr>\n",
       "      <th>380</th>\n",
       "      <td>127000.0</td>\n",
       "      <td>127000</td>\n",
       "    </tr>\n",
       "    <tr>\n",
       "      <th>875</th>\n",
       "      <td>303477.0</td>\n",
       "      <td>303477</td>\n",
       "    </tr>\n",
       "    <tr>\n",
       "      <th>923</th>\n",
       "      <td>193000.0</td>\n",
       "      <td>193000</td>\n",
       "    </tr>\n",
       "    <tr>\n",
       "      <th>896</th>\n",
       "      <td>106500.0</td>\n",
       "      <td>106500</td>\n",
       "    </tr>\n",
       "    <tr>\n",
       "      <th>...</th>\n",
       "      <td>...</td>\n",
       "      <td>...</td>\n",
       "    </tr>\n",
       "    <tr>\n",
       "      <th>201</th>\n",
       "      <td>171500.0</td>\n",
       "      <td>171500</td>\n",
       "    </tr>\n",
       "    <tr>\n",
       "      <th>124</th>\n",
       "      <td>181000.0</td>\n",
       "      <td>181000</td>\n",
       "    </tr>\n",
       "    <tr>\n",
       "      <th>603</th>\n",
       "      <td>151000.0</td>\n",
       "      <td>151000</td>\n",
       "    </tr>\n",
       "    <tr>\n",
       "      <th>332</th>\n",
       "      <td>284000.0</td>\n",
       "      <td>284000</td>\n",
       "    </tr>\n",
       "    <tr>\n",
       "      <th>606</th>\n",
       "      <td>152000.0</td>\n",
       "      <td>152000</td>\n",
       "    </tr>\n",
       "  </tbody>\n",
       "</table>\n",
       "<p>237 rows × 2 columns</p>\n",
       "</div>"
      ],
      "text/plain": [
       "     SalePrice  Actual SalePrice\n",
       "274   124500.0            124500\n",
       "380   127000.0            127000\n",
       "875   303477.0            303477\n",
       "923   193000.0            193000\n",
       "896   106500.0            106500\n",
       "..         ...               ...\n",
       "201   171500.0            171500\n",
       "124   181000.0            181000\n",
       "603   151000.0            151000\n",
       "332   284000.0            284000\n",
       "606   152000.0            152000\n",
       "\n",
       "[237 rows x 2 columns]"
      ]
     },
     "execution_count": 97,
     "metadata": {},
     "output_type": "execute_result"
    }
   ],
   "source": [
    "submission_data = pd.DataFrame({'SalePrice':model_pred, \"Actual SalePrice\": y_test})\n",
    "submission_data"
   ]
  }
 ],
 "metadata": {
  "kernelspec": {
   "display_name": "Python 3 (ipykernel)",
   "language": "python",
   "name": "python3"
  },
  "language_info": {
   "codemirror_mode": {
    "name": "ipython",
    "version": 3
   },
   "file_extension": ".py",
   "mimetype": "text/x-python",
   "name": "python",
   "nbconvert_exporter": "python",
   "pygments_lexer": "ipython3",
   "version": "3.10.4"
  }
 },
 "nbformat": 4,
 "nbformat_minor": 5
}
